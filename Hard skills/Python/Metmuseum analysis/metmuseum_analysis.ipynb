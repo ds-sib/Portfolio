{
 "cells": [
  {
   "cell_type": "code",
   "execution_count": 1,
   "metadata": {},
   "outputs": [],
   "source": [
    "import requests\n",
    "import pandas as pd\n",
    "import seaborn as sns\n",
    "import matplotlib.pyplot as plt"
   ]
  },
  {
   "cell_type": "code",
   "execution_count": 4,
   "metadata": {},
   "outputs": [],
   "source": [
    "# Get data\n",
    "r   = requests.get('https://collectionapi.metmuseum.org/public/collection/v1/search?q=sunflowers')\n",
    "res = r.json()"
   ]
  },
  {
   "cell_type": "code",
   "execution_count": 13,
   "metadata": {},
   "outputs": [],
   "source": [
    "sunflower_ids = res['objectIDs']"
   ]
  },
  {
   "cell_type": "code",
   "execution_count": 8,
   "metadata": {},
   "outputs": [],
   "source": [
    "sunflower_ids = pd.Series(sunflower_ids)"
   ]
  },
  {
   "cell_type": "code",
   "execution_count": 78,
   "metadata": {},
   "outputs": [],
   "source": [
    "r_test   = requests.get(f'https://collectionapi.metmuseum.org/public/collection/v1/objects/262430')\n",
    "obj_test = r_test.json()"
   ]
  },
  {
   "cell_type": "code",
   "execution_count": 79,
   "metadata": {},
   "outputs": [
    {
     "data": {
      "text/plain": [
       "{'objectID': 262430,\n",
       " 'isHighlight': False,\n",
       " 'accessionNumber': '1978.668.60',\n",
       " 'accessionYear': '1978',\n",
       " 'isPublicDomain': False,\n",
       " 'primaryImage': '',\n",
       " 'primaryImageSmall': '',\n",
       " 'additionalImages': [],\n",
       " 'constituents': [{'constituentID': 54847,\n",
       "   'role': 'Artist',\n",
       "   'name': 'Stephen Shore',\n",
       "   'constituentULAN_URL': 'http://vocab.getty.edu/page/ulan/500040819',\n",
       "   'constituentWikidata_URL': 'https://www.wikidata.org/wiki/Q586141',\n",
       "   'gender': ''}],\n",
       " 'department': 'Photographs',\n",
       " 'objectName': 'Photograph',\n",
       " 'title': 'Giverny',\n",
       " 'culture': '',\n",
       " 'period': '',\n",
       " 'dynasty': '',\n",
       " 'reign': '',\n",
       " 'portfolio': '',\n",
       " 'artistRole': 'Artist',\n",
       " 'artistPrefix': '',\n",
       " 'artistDisplayName': 'Stephen Shore',\n",
       " 'artistDisplayBio': 'American, born 1947',\n",
       " 'artistSuffix': '',\n",
       " 'artistAlphaSort': 'Shore, Stephen',\n",
       " 'artistNationality': 'American',\n",
       " 'artistBeginDate': '1947',\n",
       " 'artistEndDate': '9999',\n",
       " 'artistGender': '',\n",
       " 'artistWikidata_URL': 'https://www.wikidata.org/wiki/Q586141',\n",
       " 'artistULAN_URL': 'http://vocab.getty.edu/page/ulan/500040819',\n",
       " 'objectDate': '1977',\n",
       " 'objectBeginDate': 1977,\n",
       " 'objectEndDate': 1977,\n",
       " 'medium': 'Chromogenic print',\n",
       " 'dimensions': '',\n",
       " 'measurements': None,\n",
       " 'creditLine': 'Purchase, Robert Wood Johnson Jr. Charitable Trust and Lila Acheson Wallace Gifts, 1978',\n",
       " 'geographyType': '',\n",
       " 'city': '',\n",
       " 'state': '',\n",
       " 'county': '',\n",
       " 'country': '',\n",
       " 'region': '',\n",
       " 'subregion': '',\n",
       " 'locale': '',\n",
       " 'locus': '',\n",
       " 'excavation': '',\n",
       " 'river': '',\n",
       " 'classification': 'Photographs',\n",
       " 'rightsAndReproduction': '© Stephen Shore',\n",
       " 'linkResource': '',\n",
       " 'metadataDate': '2020-08-15T04:33:13.683Z',\n",
       " 'repository': 'Metropolitan Museum of Art, New York, NY',\n",
       " 'objectURL': 'https://www.metmuseum.org/art/collection/search/262430',\n",
       " 'tags': None,\n",
       " 'objectWikidata_URL': '',\n",
       " 'isTimelineWork': False,\n",
       " 'GalleryNumber': ''}"
      ]
     },
     "execution_count": 79,
     "metadata": {},
     "output_type": "execute_result"
    }
   ],
   "source": [
    "obj_test"
   ]
  },
  {
   "cell_type": "code",
   "execution_count": 21,
   "metadata": {},
   "outputs": [
    {
     "data": {
      "text/plain": [
       "''"
      ]
     },
     "execution_count": 21,
     "metadata": {},
     "output_type": "execute_result"
    }
   ],
   "source": [
    "obj_test['GalleryNumber']"
   ]
  },
  {
   "cell_type": "code",
   "execution_count": 83,
   "metadata": {},
   "outputs": [],
   "source": [
    "column_names = ['objectID', \n",
    "                'title',\n",
    "                'artistDisplayName',\n",
    "                'department',\n",
    "                'objectBeginDate',\n",
    "                'objectEndDate',\n",
    "                'period',\n",
    "                'objectName',\n",
    "                'culture'\n",
    "               ]\n",
    "\n",
    "sunflowers_data = pd.DataFrame(columns=column_names)"
   ]
  },
  {
   "cell_type": "code",
   "execution_count": 84,
   "metadata": {},
   "outputs": [
    {
     "data": {
      "text/html": [
       "<div>\n",
       "<style scoped>\n",
       "    .dataframe tbody tr th:only-of-type {\n",
       "        vertical-align: middle;\n",
       "    }\n",
       "\n",
       "    .dataframe tbody tr th {\n",
       "        vertical-align: top;\n",
       "    }\n",
       "\n",
       "    .dataframe thead th {\n",
       "        text-align: right;\n",
       "    }\n",
       "</style>\n",
       "<table border=\"1\" class=\"dataframe\">\n",
       "  <thead>\n",
       "    <tr style=\"text-align: right;\">\n",
       "      <th></th>\n",
       "      <th>objectID</th>\n",
       "      <th>title</th>\n",
       "      <th>artistDisplayName</th>\n",
       "      <th>department</th>\n",
       "      <th>objectBeginDate</th>\n",
       "      <th>objectEndDate</th>\n",
       "      <th>period</th>\n",
       "      <th>objectName</th>\n",
       "      <th>culture</th>\n",
       "    </tr>\n",
       "  </thead>\n",
       "  <tbody>\n",
       "  </tbody>\n",
       "</table>\n",
       "</div>"
      ],
      "text/plain": [
       "Empty DataFrame\n",
       "Columns: [objectID, title, artistDisplayName, department, objectBeginDate, objectEndDate, period, objectName, culture]\n",
       "Index: []"
      ]
     },
     "execution_count": 84,
     "metadata": {},
     "output_type": "execute_result"
    }
   ],
   "source": [
    "sunflowers_data"
   ]
  },
  {
   "cell_type": "code",
   "execution_count": 85,
   "metadata": {},
   "outputs": [],
   "source": [
    "for id in sunflower_ids:\n",
    "    req  = requests.get(f'https://collectionapi.metmuseum.org/public/collection/v1/objects/{id}')\n",
    "    obj  = req.json()\n",
    "    line = []\n",
    "    try:  \n",
    "        for data in column_names:\n",
    "            data = str(data)\n",
    "            line.append(obj[data])  \n",
    "    except:\n",
    "        continue\n",
    "    \n",
    "    sunflowers_data.loc[len(sunflowers_data)] = line"
   ]
  },
  {
   "cell_type": "code",
   "execution_count": 88,
   "metadata": {},
   "outputs": [
    {
     "data": {
      "text/plain": [
       "title    1\n",
       "dtype: int64"
      ]
     },
     "execution_count": 88,
     "metadata": {},
     "output_type": "execute_result"
    }
   ],
   "source": [
    "sunflowers_data.query(\"culture == 'Japan'\").agg({'title': 'count'})"
   ]
  },
  {
   "cell_type": "code",
   "execution_count": 81,
   "metadata": {},
   "outputs": [
    {
     "data": {
      "text/html": [
       "<div>\n",
       "<style scoped>\n",
       "    .dataframe tbody tr th:only-of-type {\n",
       "        vertical-align: middle;\n",
       "    }\n",
       "\n",
       "    .dataframe tbody tr th {\n",
       "        vertical-align: top;\n",
       "    }\n",
       "\n",
       "    .dataframe thead th {\n",
       "        text-align: right;\n",
       "    }\n",
       "</style>\n",
       "<table border=\"1\" class=\"dataframe\">\n",
       "  <thead>\n",
       "    <tr style=\"text-align: right;\">\n",
       "      <th></th>\n",
       "      <th>objectID</th>\n",
       "      <th>title</th>\n",
       "      <th>artistDisplayName</th>\n",
       "      <th>department</th>\n",
       "      <th>objectBeginDate</th>\n",
       "      <th>objectEndDate</th>\n",
       "      <th>period</th>\n",
       "      <th>objectName</th>\n",
       "      <th>culture</th>\n",
       "    </tr>\n",
       "  </thead>\n",
       "  <tbody>\n",
       "    <tr>\n",
       "      <th>0</th>\n",
       "      <td>436524</td>\n",
       "      <td>Sunflowers</td>\n",
       "      <td>Vincent van Gogh</td>\n",
       "      <td>European Paintings</td>\n",
       "      <td>1887</td>\n",
       "      <td>1887</td>\n",
       "      <td></td>\n",
       "      <td>Painting</td>\n",
       "      <td></td>\n",
       "    </tr>\n",
       "    <tr>\n",
       "      <th>1</th>\n",
       "      <td>484935</td>\n",
       "      <td>Sunflowers</td>\n",
       "      <td>Edward McKnight Kauffer</td>\n",
       "      <td>Modern and Contemporary Art</td>\n",
       "      <td>1921</td>\n",
       "      <td>1921</td>\n",
       "      <td></td>\n",
       "      <td>Painting</td>\n",
       "      <td></td>\n",
       "    </tr>\n",
       "    <tr>\n",
       "      <th>2</th>\n",
       "      <td>437112</td>\n",
       "      <td>Bouquet of Sunflowers</td>\n",
       "      <td>Claude Monet</td>\n",
       "      <td>European Paintings</td>\n",
       "      <td>1881</td>\n",
       "      <td>1881</td>\n",
       "      <td></td>\n",
       "      <td>Painting</td>\n",
       "      <td></td>\n",
       "    </tr>\n",
       "    <tr>\n",
       "      <th>3</th>\n",
       "      <td>210191</td>\n",
       "      <td>Vase with sunflowers</td>\n",
       "      <td>Rozenburg Plateelfabriek</td>\n",
       "      <td>European Sculpture and Decorative Arts</td>\n",
       "      <td>1896</td>\n",
       "      <td>1896</td>\n",
       "      <td></td>\n",
       "      <td>Vase</td>\n",
       "      <td></td>\n",
       "    </tr>\n",
       "    <tr>\n",
       "      <th>4</th>\n",
       "      <td>431264</td>\n",
       "      <td>Sunflowers</td>\n",
       "      <td>Lily Converse</td>\n",
       "      <td>Drawings and Prints</td>\n",
       "      <td>1941</td>\n",
       "      <td>1941</td>\n",
       "      <td></td>\n",
       "      <td>Print</td>\n",
       "      <td></td>\n",
       "    </tr>\n",
       "    <tr>\n",
       "      <th>...</th>\n",
       "      <td>...</td>\n",
       "      <td>...</td>\n",
       "      <td>...</td>\n",
       "      <td>...</td>\n",
       "      <td>...</td>\n",
       "      <td>...</td>\n",
       "      <td>...</td>\n",
       "      <td>...</td>\n",
       "      <td>...</td>\n",
       "    </tr>\n",
       "    <tr>\n",
       "      <th>69</th>\n",
       "      <td>339347</td>\n",
       "      <td>April, May, June</td>\n",
       "      <td>Louis John Rhead</td>\n",
       "      <td>Drawings and Prints</td>\n",
       "      <td>1896</td>\n",
       "      <td>1896</td>\n",
       "      <td></td>\n",
       "      <td>Poster</td>\n",
       "      <td></td>\n",
       "    </tr>\n",
       "    <tr>\n",
       "      <th>70</th>\n",
       "      <td>208218</td>\n",
       "      <td>Dish</td>\n",
       "      <td></td>\n",
       "      <td>European Sculpture and Decorative Arts</td>\n",
       "      <td>1685</td>\n",
       "      <td>1699</td>\n",
       "      <td></td>\n",
       "      <td>Dish</td>\n",
       "      <td></td>\n",
       "    </tr>\n",
       "    <tr>\n",
       "      <th>71</th>\n",
       "      <td>202228</td>\n",
       "      <td>Carpet with Fame and Fortitude</td>\n",
       "      <td>Savonnerie Manufactory</td>\n",
       "      <td>European Sculpture and Decorative Arts</td>\n",
       "      <td>1668</td>\n",
       "      <td>1685</td>\n",
       "      <td></td>\n",
       "      <td>Carpet</td>\n",
       "      <td></td>\n",
       "    </tr>\n",
       "    <tr>\n",
       "      <th>72</th>\n",
       "      <td>437984</td>\n",
       "      <td>La Berceuse (Woman Rocking a Cradle; Augustine...</td>\n",
       "      <td>Vincent van Gogh</td>\n",
       "      <td>European Paintings</td>\n",
       "      <td>1889</td>\n",
       "      <td>1889</td>\n",
       "      <td></td>\n",
       "      <td>Painting</td>\n",
       "      <td></td>\n",
       "    </tr>\n",
       "    <tr>\n",
       "      <th>73</th>\n",
       "      <td>761604</td>\n",
       "      <td></td>\n",
       "      <td>Unrecorded  Edgefield District potter</td>\n",
       "      <td>The American Wing</td>\n",
       "      <td>1845</td>\n",
       "      <td>1855</td>\n",
       "      <td></td>\n",
       "      <td>Face jug</td>\n",
       "      <td>American</td>\n",
       "    </tr>\n",
       "  </tbody>\n",
       "</table>\n",
       "<p>74 rows × 9 columns</p>\n",
       "</div>"
      ],
      "text/plain": [
       "   objectID                                              title  \\\n",
       "0    436524                                         Sunflowers   \n",
       "1    484935                                         Sunflowers   \n",
       "2    437112                              Bouquet of Sunflowers   \n",
       "3    210191                               Vase with sunflowers   \n",
       "4    431264                                         Sunflowers   \n",
       "..      ...                                                ...   \n",
       "69   339347                                   April, May, June   \n",
       "70   208218                                               Dish   \n",
       "71   202228                     Carpet with Fame and Fortitude   \n",
       "72   437984  La Berceuse (Woman Rocking a Cradle; Augustine...   \n",
       "73   761604                                                      \n",
       "\n",
       "                        artistDisplayName  \\\n",
       "0                        Vincent van Gogh   \n",
       "1                 Edward McKnight Kauffer   \n",
       "2                            Claude Monet   \n",
       "3                Rozenburg Plateelfabriek   \n",
       "4                           Lily Converse   \n",
       "..                                    ...   \n",
       "69                       Louis John Rhead   \n",
       "70                                          \n",
       "71                 Savonnerie Manufactory   \n",
       "72                       Vincent van Gogh   \n",
       "73  Unrecorded  Edgefield District potter   \n",
       "\n",
       "                                department objectBeginDate objectEndDate  \\\n",
       "0                       European Paintings            1887          1887   \n",
       "1              Modern and Contemporary Art            1921          1921   \n",
       "2                       European Paintings            1881          1881   \n",
       "3   European Sculpture and Decorative Arts            1896          1896   \n",
       "4                      Drawings and Prints            1941          1941   \n",
       "..                                     ...             ...           ...   \n",
       "69                     Drawings and Prints            1896          1896   \n",
       "70  European Sculpture and Decorative Arts            1685          1699   \n",
       "71  European Sculpture and Decorative Arts            1668          1685   \n",
       "72                      European Paintings            1889          1889   \n",
       "73                       The American Wing            1845          1855   \n",
       "\n",
       "   period objectName   culture  \n",
       "0           Painting            \n",
       "1           Painting            \n",
       "2           Painting            \n",
       "3               Vase            \n",
       "4              Print            \n",
       "..    ...        ...       ...  \n",
       "69            Poster            \n",
       "70              Dish            \n",
       "71            Carpet            \n",
       "72          Painting            \n",
       "73          Face jug  American  \n",
       "\n",
       "[74 rows x 9 columns]"
      ]
     },
     "execution_count": 81,
     "metadata": {},
     "output_type": "execute_result"
    }
   ],
   "source": [
    "sunflowers_data"
   ]
  },
  {
   "cell_type": "code",
   "execution_count": 50,
   "metadata": {},
   "outputs": [],
   "source": [
    "# Run a search query for the department \"Asian art\" (departmentId = 6) \n",
    "# with the tag \"cat\" and record the object ids in cat_ids. "
   ]
  },
  {
   "cell_type": "code",
   "execution_count": 104,
   "metadata": {},
   "outputs": [],
   "source": [
    "r = requests.get('https://collectionapi.metmuseum.org/public/collection/v1/search?departmentId=6&q=cat')\n",
    "cats = r.json()"
   ]
  },
  {
   "cell_type": "code",
   "execution_count": 105,
   "metadata": {},
   "outputs": [],
   "source": [
    "column_names = ['objectID', \n",
    "                'title',\n",
    "                'artistDisplayName',\n",
    "                'department',\n",
    "                'objectBeginDate',\n",
    "                'objectEndDate',\n",
    "                'period',\n",
    "                'objectName',\n",
    "                'culture'\n",
    "               ]\n",
    "\n",
    "cats_df = pd.DataFrame(columns=column_names)"
   ]
  },
  {
   "cell_type": "code",
   "execution_count": 106,
   "metadata": {},
   "outputs": [
    {
     "data": {
      "text/html": [
       "<div>\n",
       "<style scoped>\n",
       "    .dataframe tbody tr th:only-of-type {\n",
       "        vertical-align: middle;\n",
       "    }\n",
       "\n",
       "    .dataframe tbody tr th {\n",
       "        vertical-align: top;\n",
       "    }\n",
       "\n",
       "    .dataframe thead th {\n",
       "        text-align: right;\n",
       "    }\n",
       "</style>\n",
       "<table border=\"1\" class=\"dataframe\">\n",
       "  <thead>\n",
       "    <tr style=\"text-align: right;\">\n",
       "      <th></th>\n",
       "      <th>objectID</th>\n",
       "      <th>title</th>\n",
       "      <th>artistDisplayName</th>\n",
       "      <th>department</th>\n",
       "      <th>objectBeginDate</th>\n",
       "      <th>objectEndDate</th>\n",
       "      <th>period</th>\n",
       "      <th>objectName</th>\n",
       "      <th>culture</th>\n",
       "    </tr>\n",
       "  </thead>\n",
       "  <tbody>\n",
       "  </tbody>\n",
       "</table>\n",
       "</div>"
      ],
      "text/plain": [
       "Empty DataFrame\n",
       "Columns: [objectID, title, artistDisplayName, department, objectBeginDate, objectEndDate, period, objectName, culture]\n",
       "Index: []"
      ]
     },
     "execution_count": 106,
     "metadata": {},
     "output_type": "execute_result"
    }
   ],
   "source": [
    "cats_df"
   ]
  },
  {
   "cell_type": "code",
   "execution_count": 107,
   "metadata": {},
   "outputs": [],
   "source": [
    "cats_ids = pd.Series(cats['objectIDs'])"
   ]
  },
  {
   "cell_type": "code",
   "execution_count": 108,
   "metadata": {},
   "outputs": [
    {
     "data": {
      "text/plain": [
       "0        49698\n",
       "1        49470\n",
       "2        53222\n",
       "3        36221\n",
       "4        60873\n",
       "         ...  \n",
       "3115     39959\n",
       "3116    825667\n",
       "3117    825669\n",
       "3118    825718\n",
       "3119    825720\n",
       "Length: 3120, dtype: int64"
      ]
     },
     "execution_count": 108,
     "metadata": {},
     "output_type": "execute_result"
    }
   ],
   "source": [
    "cats_ids"
   ]
  },
  {
   "cell_type": "code",
   "execution_count": 109,
   "metadata": {},
   "outputs": [],
   "source": [
    "for id in cats_ids:\n",
    "    req = requests.get(f'https://collectionapi.metmuseum.org/public/collection/v1/objects/{id}')\n",
    "    obj = req.json()\n",
    "    line = []\n",
    "    try:  \n",
    "        for data in column_names:\n",
    "            data = str(data)\n",
    "            line.append(obj[data])  \n",
    "    except:\n",
    "        continue\n",
    "    \n",
    "    cats_df.loc[len(cats_df)] = line"
   ]
  },
  {
   "cell_type": "code",
   "execution_count": 113,
   "metadata": {},
   "outputs": [
    {
     "data": {
      "text/html": [
       "<div>\n",
       "<style scoped>\n",
       "    .dataframe tbody tr th:only-of-type {\n",
       "        vertical-align: middle;\n",
       "    }\n",
       "\n",
       "    .dataframe tbody tr th {\n",
       "        vertical-align: top;\n",
       "    }\n",
       "\n",
       "    .dataframe thead th {\n",
       "        text-align: right;\n",
       "    }\n",
       "</style>\n",
       "<table border=\"1\" class=\"dataframe\">\n",
       "  <thead>\n",
       "    <tr style=\"text-align: right;\">\n",
       "      <th></th>\n",
       "      <th>period</th>\n",
       "      <th>objectID</th>\n",
       "    </tr>\n",
       "  </thead>\n",
       "  <tbody>\n",
       "    <tr>\n",
       "      <th>105</th>\n",
       "      <td>Mughal period (1526–1858)</td>\n",
       "      <td>1</td>\n",
       "    </tr>\n",
       "    <tr>\n",
       "      <th>126</th>\n",
       "      <td>Northern Wei period (386–534)</td>\n",
       "      <td>1</td>\n",
       "    </tr>\n",
       "    <tr>\n",
       "      <th>128</th>\n",
       "      <td>Pagan period</td>\n",
       "      <td>1</td>\n",
       "    </tr>\n",
       "    <tr>\n",
       "      <th>131</th>\n",
       "      <td>Pallava period</td>\n",
       "      <td>1</td>\n",
       "    </tr>\n",
       "    <tr>\n",
       "      <th>132</th>\n",
       "      <td>Qing (1644–1911) dynasty</td>\n",
       "      <td>1</td>\n",
       "    </tr>\n",
       "    <tr>\n",
       "      <th>...</th>\n",
       "      <td>...</td>\n",
       "      <td>...</td>\n",
       "    </tr>\n",
       "    <tr>\n",
       "      <th>110</th>\n",
       "      <td>Muromachi period (1392–1573)</td>\n",
       "      <td>97</td>\n",
       "    </tr>\n",
       "    <tr>\n",
       "      <th>133</th>\n",
       "      <td>Qing dynasty (1644–1911)</td>\n",
       "      <td>134</td>\n",
       "    </tr>\n",
       "    <tr>\n",
       "      <th>81</th>\n",
       "      <td>Ming dynasty (1368–1644)</td>\n",
       "      <td>178</td>\n",
       "    </tr>\n",
       "    <tr>\n",
       "      <th>0</th>\n",
       "      <td></td>\n",
       "      <td>461</td>\n",
       "    </tr>\n",
       "    <tr>\n",
       "      <th>29</th>\n",
       "      <td>Edo period (1615–1868)</td>\n",
       "      <td>1212</td>\n",
       "    </tr>\n",
       "  </tbody>\n",
       "</table>\n",
       "<p>211 rows × 2 columns</p>\n",
       "</div>"
      ],
      "text/plain": [
       "                            period  objectID\n",
       "105      Mughal period (1526–1858)         1\n",
       "126  Northern Wei period (386–534)         1\n",
       "128                   Pagan period         1\n",
       "131                 Pallava period         1\n",
       "132       Qing (1644–1911) dynasty         1\n",
       "..                             ...       ...\n",
       "110   Muromachi period (1392–1573)        97\n",
       "133       Qing dynasty (1644–1911)       134\n",
       "81        Ming dynasty (1368–1644)       178\n",
       "0                                        461\n",
       "29          Edo period (1615–1868)      1212\n",
       "\n",
       "[211 rows x 2 columns]"
      ]
     },
     "execution_count": 113,
     "metadata": {},
     "output_type": "execute_result"
    }
   ],
   "source": [
    "cats_df.groupby('period', as_index=False).agg({'objectID': 'count'}).sort_values('objectID')"
   ]
  }
 ],
 "metadata": {
  "kernelspec": {
   "display_name": "Python 3 (ipykernel)",
   "language": "python",
   "name": "python3"
  },
  "language_info": {
   "codemirror_mode": {
    "name": "ipython",
    "version": 3
   },
   "file_extension": ".py",
   "mimetype": "text/x-python",
   "name": "python",
   "nbconvert_exporter": "python",
   "pygments_lexer": "ipython3",
   "version": "3.9.13"
  }
 },
 "nbformat": 4,
 "nbformat_minor": 4
}
