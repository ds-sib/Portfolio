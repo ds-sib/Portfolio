{
 "cells": [
  {
   "cell_type": "code",
   "execution_count": 1,
   "id": "54cde258",
   "metadata": {},
   "outputs": [],
   "source": [
    "import pandas as pd\n",
    "import numpy as np\n",
    "from scipy import stats as ss\n",
    "from scipy.stats import bootstrap\n",
    "\n",
    "import seaborn as sns\n",
    "%matplotlib inline\n",
    "\n",
    "import warnings"
   ]
  },
  {
   "cell_type": "code",
   "execution_count": 2,
   "id": "afde496a",
   "metadata": {},
   "outputs": [],
   "source": [
    "sns.set(\n",
    "    font_scale=0.9,\n",
    "    style=\"whitegrid\",\n",
    "    rc={'figure.figsize':(10,4)}\n",
    "        )"
   ]
  },
  {
   "cell_type": "code",
   "execution_count": 3,
   "id": "5548f4f8",
   "metadata": {},
   "outputs": [],
   "source": [
    "warnings.filterwarnings('ignore') # Updated Jupyter and a lot of unnecessary warnings appeared, so I disabled them"
   ]
  },
  {
   "cell_type": "code",
   "execution_count": 4,
   "id": "1c32c094",
   "metadata": {},
   "outputs": [],
   "source": [
    "# Read the raw data\n",
    "url_1 = 'https://disk.yandex.ru/d/UhyYx41rTt3clQ'\n",
    "url_2 = 'https://disk.yandex.ru/d/5Kxrz02m3IBUwQ'\n",
    "url_3 = 'https://disk.yandex.ru/d/Tbs44Bm6H_FwFQ'\n",
    "url_4 = 'https://disk.yandex.ru/d/pH1q-VqcxXjsVA'\n",
    "\n",
    "key = 'https://getfile.dokpub.com/yandex/get/'\n",
    "\n",
    "groups       = pd.read_csv(key+url_1, sep=\";\")\n",
    "groups_add   = pd.read_csv(key+url_2)\n",
    "active_studs = pd.read_csv(key+url_3)\n",
    "checks       = pd.read_csv(key+url_4, sep=\";\")"
   ]
  },
  {
   "cell_type": "markdown",
   "id": "1e4dbcac",
   "metadata": {},
   "source": [
    "Let's check the data for empty values, duplicates, and generally look at the data:"
   ]
  },
  {
   "cell_type": "code",
   "execution_count": 5,
   "id": "3409dac8",
   "metadata": {},
   "outputs": [
    {
     "data": {
      "text/plain": [
       "0"
      ]
     },
     "execution_count": 5,
     "metadata": {},
     "output_type": "execute_result"
    }
   ],
   "source": [
    "# groups.shape\n",
    "# groups.isna().sum()\n",
    "groups.duplicated().sum()"
   ]
  },
  {
   "cell_type": "code",
   "execution_count": 6,
   "id": "a2f437da",
   "metadata": {},
   "outputs": [
    {
     "data": {
      "text/plain": [
       "0"
      ]
     },
     "execution_count": 6,
     "metadata": {},
     "output_type": "execute_result"
    }
   ],
   "source": [
    "# groups_add.shape\n",
    "# groups_add.isna().sum()\n",
    "# groups_add.dtypes\n",
    "groups_add.duplicated().sum()"
   ]
  },
  {
   "cell_type": "code",
   "execution_count": 7,
   "id": "4c9593b1",
   "metadata": {},
   "outputs": [
    {
     "data": {
      "text/plain": [
       "student_id    0\n",
       "dtype: int64"
      ]
     },
     "execution_count": 7,
     "metadata": {},
     "output_type": "execute_result"
    }
   ],
   "source": [
    "# active_studs.shape\n",
    "# active_studs.duplicated().sum()\n",
    "active_studs.isna().sum()"
   ]
  },
  {
   "cell_type": "code",
   "execution_count": 8,
   "id": "0d2545b7",
   "metadata": {},
   "outputs": [
    {
     "data": {
      "text/plain": [
       "0"
      ]
     },
     "execution_count": 8,
     "metadata": {},
     "output_type": "execute_result"
    }
   ],
   "source": [
    "# checks.shape\n",
    "# checks.isna().sum()\n",
    "checks.duplicated().sum()"
   ]
  },
  {
   "cell_type": "markdown",
   "id": "4cd4e109",
   "metadata": {},
   "source": [
    "Adding new data that came in 2 days later:"
   ]
  },
  {
   "cell_type": "code",
   "execution_count": 9,
   "id": "daea8937",
   "metadata": {},
   "outputs": [],
   "source": [
    "groups = pd.concat([groups, groups_add], ignore_index=True)"
   ]
  },
  {
   "cell_type": "markdown",
   "id": "92449942",
   "metadata": {},
   "source": [
    "Let's put together a general table for further analysis:"
   ]
  },
  {
   "cell_type": "code",
   "execution_count": null,
   "id": "c96a9d44-8609-4aef-8f8f-b2707b47ea4f",
   "metadata": {},
   "outputs": [],
   "source": [
    "# Collect the id of users who participated in the AB test\n",
    "active_studs_ids = active_studs.student_id.to_list()"
   ]
  },
  {
   "cell_type": "code",
   "execution_count": 11,
   "id": "f153f21f",
   "metadata": {},
   "outputs": [],
   "source": [
    "active_users = pd.DataFrame() # There has been a couple of times a precedent of accidentally executing a cell and adding data unnecessarily, so I now zero at the beginning\n",
    "\n",
    "active_users = groups.query('id in @active_studs_ids')\n",
    "active_users = active_users.merge(checks.rename(columns={'student_id':'id'}), \n",
    "                                  on='id', \n",
    "                                  how='left')\n",
    "\n",
    "active_users.loc[active_users.rev > 0, 'paying_user'] = 1 # To make it easier to count paying users in the future\n",
    "\n",
    "active_users = active_users.fillna(0)\n",
    "\n",
    "active_users.rename(columns={'grp': 'group',\n",
    "                             'rev': 'revenue'\n",
    "                            },\n",
    "                    inplace=True)"
   ]
  },
  {
   "cell_type": "code",
   "execution_count": 12,
   "id": "1688d08e",
   "metadata": {},
   "outputs": [
    {
     "data": {
      "text/plain": [
       "392"
      ]
     },
     "execution_count": 12,
     "metadata": {},
     "output_type": "execute_result"
    }
   ],
   "source": [
    "# Let's check how many users with payment hit the df\n",
    "active_users.query('revenue > 0').shape[0]"
   ]
  },
  {
   "cell_type": "code",
   "execution_count": 13,
   "id": "25dc3afc",
   "metadata": {},
   "outputs": [
    {
     "data": {
      "text/plain": [
       "149"
      ]
     },
     "execution_count": 13,
     "metadata": {},
     "output_type": "execute_result"
    }
   ],
   "source": [
    "# Now you can count how many users have paid without logging into the app\n",
    "checks.shape[0] - active_users.query('revenue > 0').shape[0]"
   ]
  },
  {
   "cell_type": "markdown",
   "id": "686b85ca",
   "metadata": {},
   "source": [
    "There may be a subscription fee involved. We can optionally check this:"
   ]
  },
  {
   "cell_type": "code",
   "execution_count": 14,
   "id": "c35d26c7",
   "metadata": {},
   "outputs": [],
   "source": [
    "# Let's add all active paid users to the list\n",
    "active_users_w_payment = active_users.query('revenue > 0').id.tolist()"
   ]
  },
  {
   "cell_type": "code",
   "execution_count": 15,
   "id": "01a64684",
   "metadata": {},
   "outputs": [
    {
     "data": {
      "text/plain": [
       "array([ 690.    ,  630.    ,  580.    ,  290.    , 1140.    ,  990.    ,\n",
       "        199.    , 1900.    , 1980.    , 1180.    ,  840.    , 1900.0001,\n",
       "        398.    ])"
      ]
     },
     "execution_count": 15,
     "metadata": {},
     "output_type": "execute_result"
    }
   ],
   "source": [
    "# Let's see if there's some fix payment amount for users who haven't logged in\n",
    "checks.query('student_id not in @active_users_w_payment').rev.unique()"
   ]
  },
  {
   "cell_type": "markdown",
   "id": "b6381a27",
   "metadata": {},
   "source": [
    "There is no uniform pattern on price at first glance, so we either have customizable pricing plans or another reason for the appearance of paying users who didn't log in."
   ]
  },
  {
   "cell_type": "code",
   "execution_count": 16,
   "id": "2ef6a86f",
   "metadata": {},
   "outputs": [
    {
     "data": {
      "text/html": [
       "<div>\n",
       "<style scoped>\n",
       "    .dataframe tbody tr th:only-of-type {\n",
       "        vertical-align: middle;\n",
       "    }\n",
       "\n",
       "    .dataframe tbody tr th {\n",
       "        vertical-align: top;\n",
       "    }\n",
       "\n",
       "    .dataframe thead th {\n",
       "        text-align: right;\n",
       "    }\n",
       "</style>\n",
       "<table border=\"1\" class=\"dataframe\">\n",
       "  <thead>\n",
       "    <tr style=\"text-align: right;\">\n",
       "      <th></th>\n",
       "      <th>group</th>\n",
       "      <th>number_of_users</th>\n",
       "      <th>number_of_paying_users</th>\n",
       "      <th>ARPU</th>\n",
       "    </tr>\n",
       "  </thead>\n",
       "  <tbody>\n",
       "    <tr>\n",
       "      <th>0</th>\n",
       "      <td>A</td>\n",
       "      <td>1538</td>\n",
       "      <td>78.0</td>\n",
       "      <td>47.347204</td>\n",
       "    </tr>\n",
       "    <tr>\n",
       "      <th>1</th>\n",
       "      <td>B</td>\n",
       "      <td>6803</td>\n",
       "      <td>314.0</td>\n",
       "      <td>58.058798</td>\n",
       "    </tr>\n",
       "  </tbody>\n",
       "</table>\n",
       "</div>"
      ],
      "text/plain": [
       "  group  number_of_users  number_of_paying_users       ARPU\n",
       "0     A             1538                    78.0  47.347204\n",
       "1     B             6803                   314.0  58.058798"
      ]
     },
     "execution_count": 16,
     "metadata": {},
     "output_type": "execute_result"
    }
   ],
   "source": [
    "# Let's compare the data we have for the two groups\n",
    "active_users.groupby('group', as_index=False) \\\n",
    "            .agg({'id':'count', 'paying_user':'sum', 'revenue':'mean'}) \\\n",
    "            .rename(columns={'id'         : 'number_of_users',\n",
    "                             'paying_user': 'number_of_paying_users',\n",
    "                             'revenue'    : 'ARPU'\n",
    "                            })"
   ]
  },
  {
   "cell_type": "markdown",
   "id": "020b36ee",
   "metadata": {},
   "source": [
    "From the data available to answer the question of the effectiveness of the new mechanics, we can compare by:\n",
    "<br> ARPPU -- in our case this is more appropriate than ARPU, since we have a large number of users who have no payment on the test day\n",
    "<br> CR -- we will take CR from visit-to-purchase, since the mechanics being tested are only about payment (it is possible to calculate user-to-visitor conversion, but it is not important for us in the current task).\n",
    "<br>\n",
    "<br>\n",
    "It can also be noted that the number of users in the test group is much higher than in the control group."
   ]
  },
  {
   "cell_type": "code",
   "execution_count": 17,
   "id": "5cc81f92",
   "metadata": {},
   "outputs": [
    {
     "data": {
      "text/html": [
       "<div>\n",
       "<style scoped>\n",
       "    .dataframe tbody tr th:only-of-type {\n",
       "        vertical-align: middle;\n",
       "    }\n",
       "\n",
       "    .dataframe tbody tr th {\n",
       "        vertical-align: top;\n",
       "    }\n",
       "\n",
       "    .dataframe thead th {\n",
       "        text-align: right;\n",
       "    }\n",
       "</style>\n",
       "<table border=\"1\" class=\"dataframe\">\n",
       "  <thead>\n",
       "    <tr style=\"text-align: right;\">\n",
       "      <th></th>\n",
       "      <th>grp</th>\n",
       "      <th>id</th>\n",
       "    </tr>\n",
       "  </thead>\n",
       "  <tbody>\n",
       "    <tr>\n",
       "      <th>0</th>\n",
       "      <td>A</td>\n",
       "      <td>14693</td>\n",
       "    </tr>\n",
       "    <tr>\n",
       "      <th>1</th>\n",
       "      <td>B</td>\n",
       "      <td>59883</td>\n",
       "    </tr>\n",
       "  </tbody>\n",
       "</table>\n",
       "</div>"
      ],
      "text/plain": [
       "  grp     id\n",
       "0   A  14693\n",
       "1   B  59883"
      ]
     },
     "execution_count": 17,
     "metadata": {},
     "output_type": "execute_result"
    }
   ],
   "source": [
    "groups.groupby('grp', as_index=False).agg({'id': 'count'})"
   ]
  },
  {
   "cell_type": "markdown",
   "id": "fe55dca6",
   "metadata": {},
   "source": [
    "In the raw data, the number of users in the test group is also ~4 times higher, this can explain the similar difference in the groups on the days of the test."
   ]
  },
  {
   "cell_type": "markdown",
   "id": "ecb6e306",
   "metadata": {
    "scrolled": true
   },
   "source": [
    "### Calculating ARPPU"
   ]
  },
  {
   "cell_type": "code",
   "execution_count": 18,
   "id": "c800712d",
   "metadata": {},
   "outputs": [],
   "source": [
    "arppu_df = active_users.query('paying_user == 1')"
   ]
  },
  {
   "cell_type": "code",
   "execution_count": 19,
   "id": "5c6582e1",
   "metadata": {},
   "outputs": [
    {
     "data": {
      "text/html": [
       "<div>\n",
       "<style scoped>\n",
       "    .dataframe tbody tr th:only-of-type {\n",
       "        vertical-align: middle;\n",
       "    }\n",
       "\n",
       "    .dataframe tbody tr th {\n",
       "        vertical-align: top;\n",
       "    }\n",
       "\n",
       "    .dataframe thead th {\n",
       "        text-align: right;\n",
       "    }\n",
       "</style>\n",
       "<table border=\"1\" class=\"dataframe\">\n",
       "  <thead>\n",
       "    <tr style=\"text-align: right;\">\n",
       "      <th></th>\n",
       "      <th>group</th>\n",
       "      <th>ARPPU</th>\n",
       "    </tr>\n",
       "  </thead>\n",
       "  <tbody>\n",
       "    <tr>\n",
       "      <th>0</th>\n",
       "      <td>A</td>\n",
       "      <td>933.589744</td>\n",
       "    </tr>\n",
       "    <tr>\n",
       "      <th>1</th>\n",
       "      <td>B</td>\n",
       "      <td>1257.878992</td>\n",
       "    </tr>\n",
       "  </tbody>\n",
       "</table>\n",
       "</div>"
      ],
      "text/plain": [
       "  group        ARPPU\n",
       "0     A   933.589744\n",
       "1     B  1257.878992"
      ]
     },
     "execution_count": 19,
     "metadata": {},
     "output_type": "execute_result"
    }
   ],
   "source": [
    "arppu_df.groupby('group', as_index=False).agg({'revenue': 'mean'}) \\\n",
    "        .rename(columns={'revenue': 'ARPPU'})"
   ]
  },
  {
   "cell_type": "markdown",
   "id": "def080d6",
   "metadata": {},
   "source": [
    "ARPPU in the test group is higher than in the control group, which tentatively tells us about the success of the new mechanics in terms of this metric. Let's check the statistical significance of ARPPU increase: "
   ]
  },
  {
   "cell_type": "code",
   "execution_count": 20,
   "id": "9bdc04bc",
   "metadata": {},
   "outputs": [
    {
     "data": {
      "text/plain": [
       "<matplotlib.axes._subplots.AxesSubplot at 0x7f8136abc400>"
      ]
     },
     "execution_count": 20,
     "metadata": {},
     "output_type": "execute_result"
    },
    {
     "data": {
      "image/png": "[encoded data removed]",
      "text/plain": [
       "<Figure size 720x288 with 1 Axes>"
      ]
     },
     "metadata": {},
     "output_type": "display_data"
    }
   ],
   "source": [
    "sns.distplot(arppu_df.query('group == \"A\"').revenue)\n",
    "sns.distplot(arppu_df.query('group == \"B\"').revenue)"
   ]
  },
  {
   "cell_type": "markdown",
   "id": "0a246585",
   "metadata": {},
   "source": [
    "The distributions are visually abnormal, but this can be additionally checked using the Shapiro-Wilk test"
   ]
  },
  {
   "cell_type": "code",
   "execution_count": 21,
   "id": "faea6faf",
   "metadata": {},
   "outputs": [
    {
     "data": {
      "text/plain": [
       "ShapiroResult(statistic=0.7353236079216003, pvalue=1.4986822893803264e-10)"
      ]
     },
     "execution_count": 21,
     "metadata": {},
     "output_type": "execute_result"
    }
   ],
   "source": [
    "ss.shapiro(arppu_df.query('group == \"A\"').revenue)"
   ]
  },
  {
   "cell_type": "code",
   "execution_count": 22,
   "id": "90379659",
   "metadata": {},
   "outputs": [
    {
     "data": {
      "text/plain": [
       "ShapiroResult(statistic=0.8547235727310181, pvalue=1.5437024585965894e-16)"
      ]
     },
     "execution_count": 22,
     "metadata": {},
     "output_type": "execute_result"
    }
   ],
   "source": [
    "ss.shapiro(arppu_df.query('group == \"B\"').revenue)"
   ]
  },
  {
   "cell_type": "markdown",
   "id": "930664a9",
   "metadata": {},
   "source": [
    "A bootstrap can be applied to determine the statistical significance of differences between groups"
   ]
  },
  {
   "cell_type": "code",
   "execution_count": 45,
   "id": "ce6ed8c6",
   "metadata": {},
   "outputs": [
    {
     "data": {
      "text/plain": [
       "BootstrapResult(confidence_interval=ConfidenceInterval(low=755.576597946724, high=1163.3834190676812), standard_error=103.05952120326033)"
      ]
     },
     "execution_count": 45,
     "metadata": {},
     "output_type": "execute_result"
    }
   ],
   "source": [
    "bootstrap((arppu_df.query('group == \"A\"').revenue, ), np.mean)"
   ]
  },
  {
   "cell_type": "code",
   "execution_count": 46,
   "id": "367f8aef",
   "metadata": {},
   "outputs": [
    {
     "data": {
      "text/plain": [
       "BootstrapResult(confidence_interval=ConfidenceInterval(low=1172.2113261864067, high=1347.729688648779), standard_error=44.65659615769797)"
      ]
     },
     "execution_count": 46,
     "metadata": {},
     "output_type": "execute_result"
    }
   ],
   "source": [
    "bootstrap((arppu_df.query('group == \"B\"').revenue, ), np.mean)"
   ]
  },
  {
   "cell_type": "markdown",
   "id": "2c1ff524",
   "metadata": {},
   "source": [
    "#### Confidence intervals do not overlap, hence the differences between ARPPU in the two groups are statistically significant"
   ]
  },
  {
   "cell_type": "markdown",
   "id": "bcbbe3ea",
   "metadata": {},
   "source": [
    "### Calculating CR"
   ]
  },
  {
   "cell_type": "code",
   "execution_count": 25,
   "id": "5785f675",
   "metadata": {},
   "outputs": [],
   "source": [
    "cr_df = active_users.groupby('group', as_index=False).agg({'id': 'count',\n",
    "                                                           'paying_user': 'sum'})\n",
    "\n",
    "cr_df['id'] = cr_df.id - cr_df.paying_user\n",
    "\n",
    "cr_df.rename(columns={'id'         : 'non_paying_users',\n",
    "                      'paying_user': 'paying_users'},\n",
    "             inplace=True)"
   ]
  },
  {
   "cell_type": "code",
   "execution_count": 26,
   "id": "a5f65609",
   "metadata": {},
   "outputs": [
    {
     "data": {
      "text/html": [
       "<div>\n",
       "<style scoped>\n",
       "    .dataframe tbody tr th:only-of-type {\n",
       "        vertical-align: middle;\n",
       "    }\n",
       "\n",
       "    .dataframe tbody tr th {\n",
       "        vertical-align: top;\n",
       "    }\n",
       "\n",
       "    .dataframe thead th {\n",
       "        text-align: right;\n",
       "    }\n",
       "</style>\n",
       "<table border=\"1\" class=\"dataframe\">\n",
       "  <thead>\n",
       "    <tr style=\"text-align: right;\">\n",
       "      <th></th>\n",
       "      <th>group</th>\n",
       "      <th>non_paying_users</th>\n",
       "      <th>paying_users</th>\n",
       "      <th>CR</th>\n",
       "    </tr>\n",
       "  </thead>\n",
       "  <tbody>\n",
       "    <tr>\n",
       "      <th>0</th>\n",
       "      <td>A</td>\n",
       "      <td>1460.0</td>\n",
       "      <td>78.0</td>\n",
       "      <td>5.07</td>\n",
       "    </tr>\n",
       "    <tr>\n",
       "      <th>1</th>\n",
       "      <td>B</td>\n",
       "      <td>6489.0</td>\n",
       "      <td>314.0</td>\n",
       "      <td>4.62</td>\n",
       "    </tr>\n",
       "  </tbody>\n",
       "</table>\n",
       "</div>"
      ],
      "text/plain": [
       "  group  non_paying_users  paying_users    CR\n",
       "0     A            1460.0          78.0  5.07\n",
       "1     B            6489.0         314.0  4.62"
      ]
     },
     "execution_count": 26,
     "metadata": {},
     "output_type": "execute_result"
    }
   ],
   "source": [
    "cr_df['CR'] = round(cr_df.paying_users / (cr_df.paying_users + cr_df.non_paying_users) * 100, 2)\n",
    "cr_df"
   ]
  },
  {
   "cell_type": "markdown",
   "id": "dc79ec8b",
   "metadata": {},
   "source": [
    "Conversion in the test group has decreased, it is necessary to check the statistical significance of this decrease. For this purpose we will use Pearson's Chi-square."
   ]
  },
  {
   "cell_type": "code",
   "execution_count": 27,
   "id": "63b95a01",
   "metadata": {},
   "outputs": [
    {
     "data": {
      "text/plain": [
       "(0.48480826522557896,\n",
       " 0.48625240457231045,\n",
       " 1,\n",
       " array([[1465.71897854,   72.28102146],\n",
       "        [6483.28102146,  319.71897854]]))"
      ]
     },
     "execution_count": 27,
     "metadata": {},
     "output_type": "execute_result"
    }
   ],
   "source": [
    "ss.chi2_contingency(cr_df[['non_paying_users', 'paying_users']])"
   ]
  },
  {
   "cell_type": "markdown",
   "id": "b2d07cd4",
   "metadata": {},
   "source": [
    "#### Since the p-value is higher than 0.05, we can conclude that the difference in CR between groups A and B is not statistically significant"
   ]
  },
  {
   "cell_type": "markdown",
   "id": "9249b1ae",
   "metadata": {},
   "source": [
    "In fact, we tested two consecutive processes (first a visitor converted into a customer, and then the customer made a purchase for a certain amount). Since, on the one hand, ARPPU is growing, on the other hand, CR is falling (albeit slightly), we would like to check ARPU additionally to understand how the whole process changes.\n",
    "<br>\n",
    "Since we have a low CR, ARPU will probably not show a stat significant difference between groups (there will be a lot of zeros that will pull everything down). We can optionally test this:"
   ]
  },
  {
   "cell_type": "code",
   "execution_count": 28,
   "id": "2d72d277",
   "metadata": {},
   "outputs": [
    {
     "data": {
      "text/plain": [
       "BootstrapResult(confidence_interval=ConfidenceInterval(low=35.20346854199228, high=65.15871337971863), standard_error=7.4197924935881625)"
      ]
     },
     "execution_count": 28,
     "metadata": {},
     "output_type": "execute_result"
    }
   ],
   "source": [
    "bootstrap((active_users.query('group == \"A\"').revenue, ), np.mean)"
   ]
  },
  {
   "cell_type": "code",
   "execution_count": 29,
   "id": "b865d2b1",
   "metadata": {},
   "outputs": [
    {
     "data": {
      "text/plain": [
       "BootstrapResult(confidence_interval=ConfidenceInterval(low=50.96918548654914, high=65.82622201986759), standard_error=3.8063271932460827)"
      ]
     },
     "execution_count": 29,
     "metadata": {},
     "output_type": "execute_result"
    }
   ],
   "source": [
    "bootstrap((active_users.query('group == \"B\"').revenue, ), np.mean)"
   ]
  },
  {
   "cell_type": "markdown",
   "id": "820cafc1",
   "metadata": {},
   "source": [
    "Indeed, the bootstrap did not show a statistically significant difference because the confidence intervals overlap.\n",
    "<br>\n",
    "But, for a general understanding, we can compare the change in ARPU \"head-on\" to see how the overall process was affected by the change in mechanics:"
   ]
  },
  {
   "cell_type": "code",
   "execution_count": 30,
   "id": "8ec11ae1",
   "metadata": {},
   "outputs": [
    {
     "data": {
      "text/html": [
       "<div>\n",
       "<style scoped>\n",
       "    .dataframe tbody tr th:only-of-type {\n",
       "        vertical-align: middle;\n",
       "    }\n",
       "\n",
       "    .dataframe tbody tr th {\n",
       "        vertical-align: top;\n",
       "    }\n",
       "\n",
       "    .dataframe thead th {\n",
       "        text-align: right;\n",
       "    }\n",
       "</style>\n",
       "<table border=\"1\" class=\"dataframe\">\n",
       "  <thead>\n",
       "    <tr style=\"text-align: right;\">\n",
       "      <th></th>\n",
       "      <th>group</th>\n",
       "      <th>ARPU</th>\n",
       "    </tr>\n",
       "  </thead>\n",
       "  <tbody>\n",
       "    <tr>\n",
       "      <th>0</th>\n",
       "      <td>A</td>\n",
       "      <td>47.347204</td>\n",
       "    </tr>\n",
       "    <tr>\n",
       "      <th>1</th>\n",
       "      <td>B</td>\n",
       "      <td>58.058798</td>\n",
       "    </tr>\n",
       "  </tbody>\n",
       "</table>\n",
       "</div>"
      ],
      "text/plain": [
       "  group       ARPU\n",
       "0     A  47.347204\n",
       "1     B  58.058798"
      ]
     },
     "execution_count": 30,
     "metadata": {},
     "output_type": "execute_result"
    }
   ],
   "source": [
    "active_users.groupby('group', as_index=False).agg({'revenue': 'mean'}) \\\n",
    "            .rename(columns={'revenue': 'ARPU'})"
   ]
  },
  {
   "cell_type": "markdown",
   "id": "726f7704",
   "metadata": {},
   "source": [
    "ARPU in the test group increased, from which we can confirm the conclusion that the change in ARPPU is indeed statistically significant compared to the change in CR and affected the final result more significantly."
   ]
  },
  {
   "cell_type": "markdown",
   "id": "059cb8f2",
   "metadata": {},
   "source": [
    "### Conclusion from the analysis:"
   ]
  },
  {
   "cell_type": "markdown",
   "id": "747ae4fb",
   "metadata": {},
   "source": [
    "The new mechanic is worth releasing to all users rather than not, as it significantly increases ARPPU, and eventually ARPU. At the same time, it is necessary to analyze in detail the impact of the mechanics on CR and the reasons for its decrease, because even if it is possible to keep CR at the same level, the new mechanics can bring much more revenue per user."
   ]
  },
  {
   "cell_type": "markdown",
   "id": "3ac0ff29-b17a-4dd6-afee-269d3d6a5edc",
   "metadata": {},
   "source": [
    "## Make a function that will automatically load information from an additional groups_add.csv file (headers may differ) and recalculate metrics based on additional parameters. "
   ]
  },
  {
   "cell_type": "code",
   "execution_count": 37,
   "id": "bd491c83",
   "metadata": {},
   "outputs": [],
   "source": [
    "from plotly.subplots import make_subplots\n",
    "import plotly.graph_objects as go"
   ]
  },
  {
   "cell_type": "code",
   "execution_count": 38,
   "id": "c8bb33cd",
   "metadata": {},
   "outputs": [],
   "source": [
    "new_data_url = 'https://disk.yandex.ru/d/5Kxrz02m3IBUwQ'\n",
    "\n",
    "def update_metrics(new_data_url):\n",
    "    \n",
    "    # Let's load the basic data\n",
    "    url_1 = 'https://disk.yandex.ru/d/UhyYx41rTt3clQ'\n",
    "    url_2 = 'https://disk.yandex.ru/d/Tbs44Bm6H_FwFQ'\n",
    "    url_3 = 'https://disk.yandex.ru/d/pH1q-VqcxXjsVA'\n",
    "    \n",
    "    key = 'https://getfile.dokpub.com/yandex/get/'\n",
    "    \n",
    "    groups       = pd.read_csv(key+url_1, sep=\";\")\n",
    "    active_studs = pd.read_csv(key+url_2)\n",
    "    checks       = pd.read_csv(key+url_3, sep=\";\")\n",
    "\n",
    "    # Let's load the new data. In this case, as we have seen, the separator can be different, so let's try to take this into account\n",
    "    if pd.read_csv(key+new_data_url).shape[1] == 1:\n",
    "        groups_add = pd.read_csv(key+new_data_url, sep=';')\n",
    "    else:\n",
    "        groups_add = pd.read_csv(key+new_data_url, sep=',')\n",
    "\n",
    "    # Merge the new data with the old data\n",
    "    groups = pd.concat([groups, groups_add], ignore_index=True)\n",
    "\n",
    "    # Let's gather all the data into one table\n",
    "    active_studs_ids = active_studs.student_id.to_list()\n",
    "    \n",
    "    active_users = groups.query('id in @active_studs_ids')\n",
    "    active_users = active_users.merge(checks.rename(columns={'student_id':'id'}), \n",
    "                                      on='id', \n",
    "                                      how='left')\n",
    "    \n",
    "    active_users.loc[active_users.rev > 0, 'paying_user'] = 1 \n",
    "    \n",
    "    active_users = active_users.fillna(0)\n",
    "    \n",
    "    active_users.rename(columns={'grp': 'group',\n",
    "                                 'rev': 'revenue'\n",
    "                                },\n",
    "                        inplace=True)\n",
    "    \n",
    "    # Let's calculate all the metrics \n",
    "    metrics = active_users.groupby('group', as_index=False) \\\n",
    "                          .agg({'id': 'count', 'revenue': 'sum', 'paying_user': 'sum'}) \\\n",
    "                          .rename(columns={'id': 'users',\n",
    "                                           'paying_user': 'paying_users'\n",
    "                                          })\n",
    "    \n",
    "    metrics['CR']    = round(metrics.paying_users / metrics.users * 100, 2)\n",
    "    metrics['ARPU']  = round(metrics.revenue      / metrics.users, 1)\n",
    "    metrics['ARPPU'] = round(metrics.revenue      / metrics.paying_users, 1)\n",
    "\n",
    "    metrics = metrics[['group', 'CR', 'ARPU', 'ARPPU']]\n",
    "\n",
    "    return metrics"
   ]
  },
  {
   "cell_type": "code",
   "execution_count": 39,
   "id": "8737cbac",
   "metadata": {},
   "outputs": [],
   "source": [
    "def metrics_charts(metrics):\n",
    "    fig = make_subplots(rows=1, cols=3)\n",
    "    subplot_titles=(\"CR\", \"ARPU\", \"ARPPU\")\n",
    "\n",
    "    fig.add_trace(go.Bar(x=metrics['group'], y=metrics['CR'], name = 'CR'), row=1, col=1)\n",
    "    fig.add_trace(go.Bar(x=metrics['group'], y=metrics['ARPU'], name = 'ARPU'), row=1, col=2)\n",
    "    fig.add_trace(go.Bar(x=metrics['group'], y=metrics['ARPPU'], name = 'ARPPU'), row=1, col=3)\n",
    "\n",
    "    fig.update_layout(title_text=\"Key metrics:\")\n",
    "    fig.show()"
   ]
  },
  {
   "cell_type": "code",
   "execution_count": 47,
   "id": "e0d1db4b",
   "metadata": {},
   "outputs": [
    {
     "data": {
      "application/vnd.plotly.v1+json": {
       "config": {
        "plotlyServerURL": "https://plot.ly"
       },
       "data": [
        {
         "name": "CR",
         "type": "bar",
         "x": [
          "A",
          "B"
         ],
         "xaxis": "x",
         "y": [
          5.07,
          4.62
         ],
         "yaxis": "y"
        },
        {
         "name": "ARPU",
         "type": "bar",
         "x": [
          "A",
          "B"
         ],
         "xaxis": "x2",
         "y": [
          47.3,
          58.1
         ],
         "yaxis": "y2"
        },
        {
         "name": "ARPPU",
         "type": "bar",
         "x": [
          "A",
          "B"
         ],
         "xaxis": "x3",
         "y": [
          933.6,
          1257.9
         ],
         "yaxis": "y3"
        }
       ],
       "layout": {
        "template": {
         "data": {
          "bar": [
           {
            "error_x": {
             "color": "#2a3f5f"
            },
            "error_y": {
             "color": "#2a3f5f"
            },
            "marker": {
             "line": {
              "color": "#E5ECF6",
              "width": 0.5
             }
            },
            "type": "bar"
           }
          ],
          "barpolar": [
           {
            "marker": {
             "line": {
              "color": "#E5ECF6",
              "width": 0.5
             }
            },
            "type": "barpolar"
           }
          ],
          "carpet": [
           {
            "aaxis": {
             "endlinecolor": "#2a3f5f",
             "gridcolor": "white",
             "linecolor": "white",
             "minorgridcolor": "white",
             "startlinecolor": "#2a3f5f"
            },
            "baxis": {
             "endlinecolor": "#2a3f5f",
             "gridcolor": "white",
             "linecolor": "white",
             "minorgridcolor": "white",
             "startlinecolor": "#2a3f5f"
            },
            "type": "carpet"
           }
          ],
          "choropleth": [
           {
            "colorbar": {
             "outlinewidth": 0,
             "ticks": ""
            },
            "type": "choropleth"
           }
          ],
          "contour": [
           {
            "colorbar": {
             "outlinewidth": 0,
             "ticks": ""
            },
            "colorscale": [
             [
              0,
              "#0d0887"
             ],
             [
              0.1111111111111111,
              "#46039f"
             ],
             [
              0.2222222222222222,
              "#7201a8"
             ],
             [
              0.3333333333333333,
              "#9c179e"
             ],
             [
              0.4444444444444444,
              "#bd3786"
             ],
             [
              0.5555555555555556,
              "#d8576b"
             ],
             [
              0.6666666666666666,
              "#ed7953"
             ],
             [
              0.7777777777777778,
              "#fb9f3a"
             ],
             [
              0.8888888888888888,
              "#fdca26"
             ],
             [
              1,
              "#f0f921"
             ]
            ],
            "type": "contour"
           }
          ],
          "contourcarpet": [
           {
            "colorbar": {
             "outlinewidth": 0,
             "ticks": ""
            },
            "type": "contourcarpet"
           }
          ],
          "heatmap": [
           {
            "colorbar": {
             "outlinewidth": 0,
             "ticks": ""
            },
            "colorscale": [
             [
              0,
              "#0d0887"
             ],
             [
              0.1111111111111111,
              "#46039f"
             ],
             [
              0.2222222222222222,
              "#7201a8"
             ],
             [
              0.3333333333333333,
              "#9c179e"
             ],
             [
              0.4444444444444444,
              "#bd3786"
             ],
             [
              0.5555555555555556,
              "#d8576b"
             ],
             [
              0.6666666666666666,
              "#ed7953"
             ],
             [
              0.7777777777777778,
              "#fb9f3a"
             ],
             [
              0.8888888888888888,
              "#fdca26"
             ],
             [
              1,
              "#f0f921"
             ]
            ],
            "type": "heatmap"
           }
          ],
          "heatmapgl": [
           {
            "colorbar": {
             "outlinewidth": 0,
             "ticks": ""
            },
            "colorscale": [
             [
              0,
              "#0d0887"
             ],
             [
              0.1111111111111111,
              "#46039f"
             ],
             [
              0.2222222222222222,
              "#7201a8"
             ],
             [
              0.3333333333333333,
              "#9c179e"
             ],
             [
              0.4444444444444444,
              "#bd3786"
             ],
             [
              0.5555555555555556,
              "#d8576b"
             ],
             [
              0.6666666666666666,
              "#ed7953"
             ],
             [
              0.7777777777777778,
              "#fb9f3a"
             ],
             [
              0.8888888888888888,
              "#fdca26"
             ],
             [
              1,
              "#f0f921"
             ]
            ],
            "type": "heatmapgl"
           }
          ],
          "histogram": [
           {
            "marker": {
             "colorbar": {
              "outlinewidth": 0,
              "ticks": ""
             }
            },
            "type": "histogram"
           }
          ],
          "histogram2d": [
           {
            "colorbar": {
             "outlinewidth": 0,
             "ticks": ""
            },
            "colorscale": [
             [
              0,
              "#0d0887"
             ],
             [
              0.1111111111111111,
              "#46039f"
             ],
             [
              0.2222222222222222,
              "#7201a8"
             ],
             [
              0.3333333333333333,
              "#9c179e"
             ],
             [
              0.4444444444444444,
              "#bd3786"
             ],
             [
              0.5555555555555556,
              "#d8576b"
             ],
             [
              0.6666666666666666,
              "#ed7953"
             ],
             [
              0.7777777777777778,
              "#fb9f3a"
             ],
             [
              0.8888888888888888,
              "#fdca26"
             ],
             [
              1,
              "#f0f921"
             ]
            ],
            "type": "histogram2d"
           }
          ],
          "histogram2dcontour": [
           {
            "colorbar": {
             "outlinewidth": 0,
             "ticks": ""
            },
            "colorscale": [
             [
              0,
              "#0d0887"
             ],
             [
              0.1111111111111111,
              "#46039f"
             ],
             [
              0.2222222222222222,
              "#7201a8"
             ],
             [
              0.3333333333333333,
              "#9c179e"
             ],
             [
              0.4444444444444444,
              "#bd3786"
             ],
             [
              0.5555555555555556,
              "#d8576b"
             ],
             [
              0.6666666666666666,
              "#ed7953"
             ],
             [
              0.7777777777777778,
              "#fb9f3a"
             ],
             [
              0.8888888888888888,
              "#fdca26"
             ],
             [
              1,
              "#f0f921"
             ]
            ],
            "type": "histogram2dcontour"
           }
          ],
          "mesh3d": [
           {
            "colorbar": {
             "outlinewidth": 0,
             "ticks": ""
            },
            "type": "mesh3d"
           }
          ],
          "parcoords": [
           {
            "line": {
             "colorbar": {
              "outlinewidth": 0,
              "ticks": ""
             }
            },
            "type": "parcoords"
           }
          ],
          "pie": [
           {
            "automargin": true,
            "type": "pie"
           }
          ],
          "scatter": [
           {
            "marker": {
             "colorbar": {
              "outlinewidth": 0,
              "ticks": ""
             }
            },
            "type": "scatter"
           }
          ],
          "scatter3d": [
           {
            "line": {
             "colorbar": {
              "outlinewidth": 0,
              "ticks": ""
             }
            },
            "marker": {
             "colorbar": {
              "outlinewidth": 0,
              "ticks": ""
             }
            },
            "type": "scatter3d"
           }
          ],
          "scattercarpet": [
           {
            "marker": {
             "colorbar": {
              "outlinewidth": 0,
              "ticks": ""
             }
            },
            "type": "scattercarpet"
           }
          ],
          "scattergeo": [
           {
            "marker": {
             "colorbar": {
              "outlinewidth": 0,
              "ticks": ""
             }
            },
            "type": "scattergeo"
           }
          ],
          "scattergl": [
           {
            "marker": {
             "colorbar": {
              "outlinewidth": 0,
              "ticks": ""
             }
            },
            "type": "scattergl"
           }
          ],
          "scattermapbox": [
           {
            "marker": {
             "colorbar": {
              "outlinewidth": 0,
              "ticks": ""
             }
            },
            "type": "scattermapbox"
           }
          ],
          "scatterpolar": [
           {
            "marker": {
             "colorbar": {
              "outlinewidth": 0,
              "ticks": ""
             }
            },
            "type": "scatterpolar"
           }
          ],
          "scatterpolargl": [
           {
            "marker": {
             "colorbar": {
              "outlinewidth": 0,
              "ticks": ""
             }
            },
            "type": "scatterpolargl"
           }
          ],
          "scatterternary": [
           {
            "marker": {
             "colorbar": {
              "outlinewidth": 0,
              "ticks": ""
             }
            },
            "type": "scatterternary"
           }
          ],
          "surface": [
           {
            "colorbar": {
             "outlinewidth": 0,
             "ticks": ""
            },
            "colorscale": [
             [
              0,
              "#0d0887"
             ],
             [
              0.1111111111111111,
              "#46039f"
             ],
             [
              0.2222222222222222,
              "#7201a8"
             ],
             [
              0.3333333333333333,
              "#9c179e"
             ],
             [
              0.4444444444444444,
              "#bd3786"
             ],
             [
              0.5555555555555556,
              "#d8576b"
             ],
             [
              0.6666666666666666,
              "#ed7953"
             ],
             [
              0.7777777777777778,
              "#fb9f3a"
             ],
             [
              0.8888888888888888,
              "#fdca26"
             ],
             [
              1,
              "#f0f921"
             ]
            ],
            "type": "surface"
           }
          ],
          "table": [
           {
            "cells": {
             "fill": {
              "color": "#EBF0F8"
             },
             "line": {
              "color": "white"
             }
            },
            "header": {
             "fill": {
              "color": "#C8D4E3"
             },
             "line": {
              "color": "white"
             }
            },
            "type": "table"
           }
          ]
         },
         "layout": {
          "annotationdefaults": {
           "arrowcolor": "#2a3f5f",
           "arrowhead": 0,
           "arrowwidth": 1
          },
          "coloraxis": {
           "colorbar": {
            "outlinewidth": 0,
            "ticks": ""
           }
          },
          "colorscale": {
           "diverging": [
            [
             0,
             "#8e0152"
            ],
            [
             0.1,
             "#c51b7d"
            ],
            [
             0.2,
             "#de77ae"
            ],
            [
             0.3,
             "#f1b6da"
            ],
            [
             0.4,
             "#fde0ef"
            ],
            [
             0.5,
             "#f7f7f7"
            ],
            [
             0.6,
             "#e6f5d0"
            ],
            [
             0.7,
             "#b8e186"
            ],
            [
             0.8,
             "#7fbc41"
            ],
            [
             0.9,
             "#4d9221"
            ],
            [
             1,
             "#276419"
            ]
           ],
           "sequential": [
            [
             0,
             "#0d0887"
            ],
            [
             0.1111111111111111,
             "#46039f"
            ],
            [
             0.2222222222222222,
             "#7201a8"
            ],
            [
             0.3333333333333333,
             "#9c179e"
            ],
            [
             0.4444444444444444,
             "#bd3786"
            ],
            [
             0.5555555555555556,
             "#d8576b"
            ],
            [
             0.6666666666666666,
             "#ed7953"
            ],
            [
             0.7777777777777778,
             "#fb9f3a"
            ],
            [
             0.8888888888888888,
             "#fdca26"
            ],
            [
             1,
             "#f0f921"
            ]
           ],
           "sequentialminus": [
            [
             0,
             "#0d0887"
            ],
            [
             0.1111111111111111,
             "#46039f"
            ],
            [
             0.2222222222222222,
             "#7201a8"
            ],
            [
             0.3333333333333333,
             "#9c179e"
            ],
            [
             0.4444444444444444,
             "#bd3786"
            ],
            [
             0.5555555555555556,
             "#d8576b"
            ],
            [
             0.6666666666666666,
             "#ed7953"
            ],
            [
             0.7777777777777778,
             "#fb9f3a"
            ],
            [
             0.8888888888888888,
             "#fdca26"
            ],
            [
             1,
             "#f0f921"
            ]
           ]
          },
          "colorway": [
           "#636efa",
           "#EF553B",
           "#00cc96",
           "#ab63fa",
           "#FFA15A",
           "#19d3f3",
           "#FF6692",
           "#B6E880",
           "#FF97FF",
           "#FECB52"
          ],
          "font": {
           "color": "#2a3f5f"
          },
          "geo": {
           "bgcolor": "white",
           "lakecolor": "white",
           "landcolor": "#E5ECF6",
           "showlakes": true,
           "showland": true,
           "subunitcolor": "white"
          },
          "hoverlabel": {
           "align": "left"
          },
          "hovermode": "closest",
          "mapbox": {
           "style": "light"
          },
          "paper_bgcolor": "white",
          "plot_bgcolor": "#E5ECF6",
          "polar": {
           "angularaxis": {
            "gridcolor": "white",
            "linecolor": "white",
            "ticks": ""
           },
           "bgcolor": "#E5ECF6",
           "radialaxis": {
            "gridcolor": "white",
            "linecolor": "white",
            "ticks": ""
           }
          },
          "scene": {
           "xaxis": {
            "backgroundcolor": "#E5ECF6",
            "gridcolor": "white",
            "gridwidth": 2,
            "linecolor": "white",
            "showbackground": true,
            "ticks": "",
            "zerolinecolor": "white"
           },
           "yaxis": {
            "backgroundcolor": "#E5ECF6",
            "gridcolor": "white",
            "gridwidth": 2,
            "linecolor": "white",
            "showbackground": true,
            "ticks": "",
            "zerolinecolor": "white"
           },
           "zaxis": {
            "backgroundcolor": "#E5ECF6",
            "gridcolor": "white",
            "gridwidth": 2,
            "linecolor": "white",
            "showbackground": true,
            "ticks": "",
            "zerolinecolor": "white"
           }
          },
          "shapedefaults": {
           "line": {
            "color": "#2a3f5f"
           }
          },
          "ternary": {
           "aaxis": {
            "gridcolor": "white",
            "linecolor": "white",
            "ticks": ""
           },
           "baxis": {
            "gridcolor": "white",
            "linecolor": "white",
            "ticks": ""
           },
           "bgcolor": "#E5ECF6",
           "caxis": {
            "gridcolor": "white",
            "linecolor": "white",
            "ticks": ""
           }
          },
          "title": {
           "x": 0.05
          },
          "xaxis": {
           "automargin": true,
           "gridcolor": "white",
           "linecolor": "white",
           "ticks": "",
           "title": {
            "standoff": 15
           },
           "zerolinecolor": "white",
           "zerolinewidth": 2
          },
          "yaxis": {
           "automargin": true,
           "gridcolor": "white",
           "linecolor": "white",
           "ticks": "",
           "title": {
            "standoff": 15
           },
           "zerolinecolor": "white",
           "zerolinewidth": 2
          }
         }
        },
        "title": {
         "text": "Key metrics:"
        },
        "xaxis": {
         "anchor": "y",
         "domain": [
          0,
          0.2888888888888889
         ]
        },
        "xaxis2": {
         "anchor": "y2",
         "domain": [
          0.35555555555555557,
          0.6444444444444445
         ]
        },
        "xaxis3": {
         "anchor": "y3",
         "domain": [
          0.7111111111111111,
          1
         ]
        },
        "yaxis": {
         "anchor": "x",
         "domain": [
          0,
          1
         ]
        },
        "yaxis2": {
         "anchor": "x2",
         "domain": [
          0,
          1
         ]
        },
        "yaxis3": {
         "anchor": "x3",
         "domain": [
          0,
          1
         ]
        }
       }
      },
      "text/html": [
       "<div>\n",
       "        \n",
       "        \n",
       "            <div id=\"34c4596e-f0d2-4742-8ef5-07706b6e567e\" class=\"plotly-graph-div\" style=\"height:525px; width:100%;\"></div>\n",
       "            <script type=\"text/javascript\">\n",
       "                require([\"plotly\"], function(Plotly) {\n",
       "                    window.PLOTLYENV=window.PLOTLYENV || {};\n",
       "                    \n",
       "                if (document.getElementById(\"34c4596e-f0d2-4742-8ef5-07706b6e567e\")) {\n",
       "                    Plotly.newPlot(\n",
       "                        '34c4596e-f0d2-4742-8ef5-07706b6e567e',\n",
       "                        [{\"name\": \"CR\", \"type\": \"bar\", \"x\": [\"A\", \"B\"], \"xaxis\": \"x\", \"y\": [5.07, 4.62], \"yaxis\": \"y\"}, {\"name\": \"ARPU\", \"type\": \"bar\", \"x\": [\"A\", \"B\"], \"xaxis\": \"x2\", \"y\": [47.3, 58.1], \"yaxis\": \"y2\"}, {\"name\": \"ARPPU\", \"type\": \"bar\", \"x\": [\"A\", \"B\"], \"xaxis\": \"x3\", \"y\": [933.6, 1257.9], \"yaxis\": \"y3\"}],\n",
       "                        {\"template\": {\"data\": {\"bar\": [{\"error_x\": {\"color\": \"#2a3f5f\"}, \"error_y\": {\"color\": \"#2a3f5f\"}, \"marker\": {\"line\": {\"color\": \"#E5ECF6\", \"width\": 0.5}}, \"type\": \"bar\"}], \"barpolar\": [{\"marker\": {\"line\": {\"color\": \"#E5ECF6\", \"width\": 0.5}}, \"type\": \"barpolar\"}], \"carpet\": [{\"aaxis\": {\"endlinecolor\": \"#2a3f5f\", \"gridcolor\": \"white\", \"linecolor\": \"white\", \"minorgridcolor\": \"white\", \"startlinecolor\": \"#2a3f5f\"}, \"baxis\": {\"endlinecolor\": \"#2a3f5f\", \"gridcolor\": \"white\", \"linecolor\": \"white\", \"minorgridcolor\": \"white\", \"startlinecolor\": \"#2a3f5f\"}, \"type\": \"carpet\"}], \"choropleth\": [{\"colorbar\": {\"outlinewidth\": 0, \"ticks\": \"\"}, \"type\": \"choropleth\"}], \"contour\": [{\"colorbar\": {\"outlinewidth\": 0, \"ticks\": \"\"}, \"colorscale\": [[0.0, \"#0d0887\"], [0.1111111111111111, \"#46039f\"], [0.2222222222222222, \"#7201a8\"], [0.3333333333333333, \"#9c179e\"], [0.4444444444444444, \"#bd3786\"], [0.5555555555555556, \"#d8576b\"], [0.6666666666666666, \"#ed7953\"], [0.7777777777777778, \"#fb9f3a\"], [0.8888888888888888, \"#fdca26\"], [1.0, \"#f0f921\"]], \"type\": \"contour\"}], \"contourcarpet\": [{\"colorbar\": {\"outlinewidth\": 0, \"ticks\": \"\"}, \"type\": \"contourcarpet\"}], \"heatmap\": [{\"colorbar\": {\"outlinewidth\": 0, \"ticks\": \"\"}, \"colorscale\": [[0.0, \"#0d0887\"], [0.1111111111111111, \"#46039f\"], [0.2222222222222222, \"#7201a8\"], [0.3333333333333333, \"#9c179e\"], [0.4444444444444444, \"#bd3786\"], [0.5555555555555556, \"#d8576b\"], [0.6666666666666666, \"#ed7953\"], [0.7777777777777778, \"#fb9f3a\"], [0.8888888888888888, \"#fdca26\"], [1.0, \"#f0f921\"]], \"type\": \"heatmap\"}], \"heatmapgl\": [{\"colorbar\": {\"outlinewidth\": 0, \"ticks\": \"\"}, \"colorscale\": [[0.0, \"#0d0887\"], [0.1111111111111111, \"#46039f\"], [0.2222222222222222, \"#7201a8\"], [0.3333333333333333, \"#9c179e\"], [0.4444444444444444, \"#bd3786\"], [0.5555555555555556, \"#d8576b\"], [0.6666666666666666, \"#ed7953\"], [0.7777777777777778, \"#fb9f3a\"], [0.8888888888888888, \"#fdca26\"], [1.0, \"#f0f921\"]], \"type\": \"heatmapgl\"}], \"histogram\": [{\"marker\": {\"colorbar\": {\"outlinewidth\": 0, \"ticks\": \"\"}}, \"type\": \"histogram\"}], \"histogram2d\": [{\"colorbar\": {\"outlinewidth\": 0, \"ticks\": \"\"}, \"colorscale\": [[0.0, \"#0d0887\"], [0.1111111111111111, \"#46039f\"], [0.2222222222222222, \"#7201a8\"], [0.3333333333333333, \"#9c179e\"], [0.4444444444444444, \"#bd3786\"], [0.5555555555555556, \"#d8576b\"], [0.6666666666666666, \"#ed7953\"], [0.7777777777777778, \"#fb9f3a\"], [0.8888888888888888, \"#fdca26\"], [1.0, \"#f0f921\"]], \"type\": \"histogram2d\"}], \"histogram2dcontour\": [{\"colorbar\": {\"outlinewidth\": 0, \"ticks\": \"\"}, \"colorscale\": [[0.0, \"#0d0887\"], [0.1111111111111111, \"#46039f\"], [0.2222222222222222, \"#7201a8\"], [0.3333333333333333, \"#9c179e\"], [0.4444444444444444, \"#bd3786\"], [0.5555555555555556, \"#d8576b\"], [0.6666666666666666, \"#ed7953\"], [0.7777777777777778, \"#fb9f3a\"], [0.8888888888888888, \"#fdca26\"], [1.0, \"#f0f921\"]], \"type\": \"histogram2dcontour\"}], \"mesh3d\": [{\"colorbar\": {\"outlinewidth\": 0, \"ticks\": \"\"}, \"type\": \"mesh3d\"}], \"parcoords\": [{\"line\": {\"colorbar\": {\"outlinewidth\": 0, \"ticks\": \"\"}}, \"type\": \"parcoords\"}], \"pie\": [{\"automargin\": true, \"type\": \"pie\"}], \"scatter\": [{\"marker\": {\"colorbar\": {\"outlinewidth\": 0, \"ticks\": \"\"}}, \"type\": \"scatter\"}], \"scatter3d\": [{\"line\": {\"colorbar\": {\"outlinewidth\": 0, \"ticks\": \"\"}}, \"marker\": {\"colorbar\": {\"outlinewidth\": 0, \"ticks\": \"\"}}, \"type\": \"scatter3d\"}], \"scattercarpet\": [{\"marker\": {\"colorbar\": {\"outlinewidth\": 0, \"ticks\": \"\"}}, \"type\": \"scattercarpet\"}], \"scattergeo\": [{\"marker\": {\"colorbar\": {\"outlinewidth\": 0, \"ticks\": \"\"}}, \"type\": \"scattergeo\"}], \"scattergl\": [{\"marker\": {\"colorbar\": {\"outlinewidth\": 0, \"ticks\": \"\"}}, \"type\": \"scattergl\"}], \"scattermapbox\": [{\"marker\": {\"colorbar\": {\"outlinewidth\": 0, \"ticks\": \"\"}}, \"type\": \"scattermapbox\"}], \"scatterpolar\": [{\"marker\": {\"colorbar\": {\"outlinewidth\": 0, \"ticks\": \"\"}}, \"type\": \"scatterpolar\"}], \"scatterpolargl\": [{\"marker\": {\"colorbar\": {\"outlinewidth\": 0, \"ticks\": \"\"}}, \"type\": \"scatterpolargl\"}], \"scatterternary\": [{\"marker\": {\"colorbar\": {\"outlinewidth\": 0, \"ticks\": \"\"}}, \"type\": \"scatterternary\"}], \"surface\": [{\"colorbar\": {\"outlinewidth\": 0, \"ticks\": \"\"}, \"colorscale\": [[0.0, \"#0d0887\"], [0.1111111111111111, \"#46039f\"], [0.2222222222222222, \"#7201a8\"], [0.3333333333333333, \"#9c179e\"], [0.4444444444444444, \"#bd3786\"], [0.5555555555555556, \"#d8576b\"], [0.6666666666666666, \"#ed7953\"], [0.7777777777777778, \"#fb9f3a\"], [0.8888888888888888, \"#fdca26\"], [1.0, \"#f0f921\"]], \"type\": \"surface\"}], \"table\": [{\"cells\": {\"fill\": {\"color\": \"#EBF0F8\"}, \"line\": {\"color\": \"white\"}}, \"header\": {\"fill\": {\"color\": \"#C8D4E3\"}, \"line\": {\"color\": \"white\"}}, \"type\": \"table\"}]}, \"layout\": {\"annotationdefaults\": {\"arrowcolor\": \"#2a3f5f\", \"arrowhead\": 0, \"arrowwidth\": 1}, \"coloraxis\": {\"colorbar\": {\"outlinewidth\": 0, \"ticks\": \"\"}}, \"colorscale\": {\"diverging\": [[0, \"#8e0152\"], [0.1, \"#c51b7d\"], [0.2, \"#de77ae\"], [0.3, \"#f1b6da\"], [0.4, \"#fde0ef\"], [0.5, \"#f7f7f7\"], [0.6, \"#e6f5d0\"], [0.7, \"#b8e186\"], [0.8, \"#7fbc41\"], [0.9, \"#4d9221\"], [1, \"#276419\"]], \"sequential\": [[0.0, \"#0d0887\"], [0.1111111111111111, \"#46039f\"], [0.2222222222222222, \"#7201a8\"], [0.3333333333333333, \"#9c179e\"], [0.4444444444444444, \"#bd3786\"], [0.5555555555555556, \"#d8576b\"], [0.6666666666666666, \"#ed7953\"], [0.7777777777777778, \"#fb9f3a\"], [0.8888888888888888, \"#fdca26\"], [1.0, \"#f0f921\"]], \"sequentialminus\": [[0.0, \"#0d0887\"], [0.1111111111111111, \"#46039f\"], [0.2222222222222222, \"#7201a8\"], [0.3333333333333333, \"#9c179e\"], [0.4444444444444444, \"#bd3786\"], [0.5555555555555556, \"#d8576b\"], [0.6666666666666666, \"#ed7953\"], [0.7777777777777778, \"#fb9f3a\"], [0.8888888888888888, \"#fdca26\"], [1.0, \"#f0f921\"]]}, \"colorway\": [\"#636efa\", \"#EF553B\", \"#00cc96\", \"#ab63fa\", \"#FFA15A\", \"#19d3f3\", \"#FF6692\", \"#B6E880\", \"#FF97FF\", \"#FECB52\"], \"font\": {\"color\": \"#2a3f5f\"}, \"geo\": {\"bgcolor\": \"white\", \"lakecolor\": \"white\", \"landcolor\": \"#E5ECF6\", \"showlakes\": true, \"showland\": true, \"subunitcolor\": \"white\"}, \"hoverlabel\": {\"align\": \"left\"}, \"hovermode\": \"closest\", \"mapbox\": {\"style\": \"light\"}, \"paper_bgcolor\": \"white\", \"plot_bgcolor\": \"#E5ECF6\", \"polar\": {\"angularaxis\": {\"gridcolor\": \"white\", \"linecolor\": \"white\", \"ticks\": \"\"}, \"bgcolor\": \"#E5ECF6\", \"radialaxis\": {\"gridcolor\": \"white\", \"linecolor\": \"white\", \"ticks\": \"\"}}, \"scene\": {\"xaxis\": {\"backgroundcolor\": \"#E5ECF6\", \"gridcolor\": \"white\", \"gridwidth\": 2, \"linecolor\": \"white\", \"showbackground\": true, \"ticks\": \"\", \"zerolinecolor\": \"white\"}, \"yaxis\": {\"backgroundcolor\": \"#E5ECF6\", \"gridcolor\": \"white\", \"gridwidth\": 2, \"linecolor\": \"white\", \"showbackground\": true, \"ticks\": \"\", \"zerolinecolor\": \"white\"}, \"zaxis\": {\"backgroundcolor\": \"#E5ECF6\", \"gridcolor\": \"white\", \"gridwidth\": 2, \"linecolor\": \"white\", \"showbackground\": true, \"ticks\": \"\", \"zerolinecolor\": \"white\"}}, \"shapedefaults\": {\"line\": {\"color\": \"#2a3f5f\"}}, \"ternary\": {\"aaxis\": {\"gridcolor\": \"white\", \"linecolor\": \"white\", \"ticks\": \"\"}, \"baxis\": {\"gridcolor\": \"white\", \"linecolor\": \"white\", \"ticks\": \"\"}, \"bgcolor\": \"#E5ECF6\", \"caxis\": {\"gridcolor\": \"white\", \"linecolor\": \"white\", \"ticks\": \"\"}}, \"title\": {\"x\": 0.05}, \"xaxis\": {\"automargin\": true, \"gridcolor\": \"white\", \"linecolor\": \"white\", \"ticks\": \"\", \"title\": {\"standoff\": 15}, \"zerolinecolor\": \"white\", \"zerolinewidth\": 2}, \"yaxis\": {\"automargin\": true, \"gridcolor\": \"white\", \"linecolor\": \"white\", \"ticks\": \"\", \"title\": {\"standoff\": 15}, \"zerolinecolor\": \"white\", \"zerolinewidth\": 2}}}, \"title\": {\"text\": \"Key metrics:\"}, \"xaxis\": {\"anchor\": \"y\", \"domain\": [0.0, 0.2888888888888889]}, \"xaxis2\": {\"anchor\": \"y2\", \"domain\": [0.35555555555555557, 0.6444444444444445]}, \"xaxis3\": {\"anchor\": \"y3\", \"domain\": [0.7111111111111111, 1.0]}, \"yaxis\": {\"anchor\": \"x\", \"domain\": [0.0, 1.0]}, \"yaxis2\": {\"anchor\": \"x2\", \"domain\": [0.0, 1.0]}, \"yaxis3\": {\"anchor\": \"x3\", \"domain\": [0.0, 1.0]}},\n",
       "                        {\"responsive\": true}\n",
       "                    ).then(function(){\n",
       "                            \n",
       "var gd = document.getElementById('34c4596e-f0d2-4742-8ef5-07706b6e567e');\n",
       "var x = new MutationObserver(function (mutations, observer) {{\n",
       "        var display = window.getComputedStyle(gd).display;\n",
       "        if (!display || display === 'none') {{\n",
       "            console.log([gd, 'removed!']);\n",
       "            Plotly.purge(gd);\n",
       "            observer.disconnect();\n",
       "        }}\n",
       "}});\n",
       "\n",
       "// Listen for the removal of the full notebook cells\n",
       "var notebookContainer = gd.closest('#notebook-container');\n",
       "if (notebookContainer) {{\n",
       "    x.observe(notebookContainer, {childList: true});\n",
       "}}\n",
       "\n",
       "// Listen for the clearing of the current output cell\n",
       "var outputEl = gd.closest('.output');\n",
       "if (outputEl) {{\n",
       "    x.observe(outputEl, {childList: true});\n",
       "}}\n",
       "\n",
       "                        })\n",
       "                };\n",
       "                });\n",
       "            </script>\n",
       "        </div>"
      ]
     },
     "metadata": {},
     "output_type": "display_data"
    }
   ],
   "source": [
    "metrics_charts(update_metrics(new_data_url))"
   ]
  }
 ],
 "metadata": {
  "kernelspec": {
   "display_name": "Python 3 (ipykernel)",
   "language": "python",
   "name": "python3"
  },
  "language_info": {
   "codemirror_mode": {
    "name": "ipython",
    "version": 3
   },
   "file_extension": ".py",
   "mimetype": "text/x-python",
   "name": "python",
   "nbconvert_exporter": "python",
   "pygments_lexer": "ipython3",
   "version": "3.9.13"
  }
 },
 "nbformat": 4,
 "nbformat_minor": 5
}
