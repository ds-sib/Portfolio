{
 "cells": [
  {
   "cell_type": "code",
   "execution_count": 1,
   "id": "475eb7b5",
   "metadata": {},
   "outputs": [
    {
     "name": "stdout",
     "output_type": "stream",
     "text": [
      "running\n",
      "something changed\n",
      "something changed\n",
      "something changed\n",
      "something changed\n",
      "something changed\n"
     ]
    },
    {
     "ename": "KeyboardInterrupt",
     "evalue": "",
     "output_type": "error",
     "traceback": [
      "\u001b[0;31m---------------------------------------------------------------------------\u001b[0m",
      "\u001b[0;31mKeyboardInterrupt\u001b[0m                         Traceback (most recent call last)",
      "\u001b[0;32m/var/folders/rd/x5rtrm79573f34ws08r36mnr0000gn/T/ipykernel_61732/4086927568.py\u001b[0m in \u001b[0;36m<module>\u001b[0;34m\u001b[0m\n\u001b[1;32m     48\u001b[0m \u001b[0;34m\u001b[0m\u001b[0m\n\u001b[1;32m     49\u001b[0m             \u001b[0;31m# wait for 30 seconds\u001b[0m\u001b[0;34m\u001b[0m\u001b[0;34m\u001b[0m\u001b[0m\n\u001b[0;32m---> 50\u001b[0;31m             \u001b[0mtime\u001b[0m\u001b[0;34m.\u001b[0m\u001b[0msleep\u001b[0m\u001b[0;34m(\u001b[0m\u001b[0;36m30\u001b[0m\u001b[0;34m)\u001b[0m\u001b[0;34m\u001b[0m\u001b[0;34m\u001b[0m\u001b[0m\n\u001b[0m\u001b[1;32m     51\u001b[0m             \u001b[0;32mcontinue\u001b[0m\u001b[0;34m\u001b[0m\u001b[0;34m\u001b[0m\u001b[0m\n\u001b[1;32m     52\u001b[0m \u001b[0;34m\u001b[0m\u001b[0m\n",
      "\u001b[0;31mKeyboardInterrupt\u001b[0m: "
     ]
    }
   ],
   "source": [
    "import time\n",
    "import hashlib\n",
    "from urllib.request import urlopen, Request\n",
    " \n",
    "# setting the URL you want to monitor\n",
    "url = Request('https://pieraksts.mfa.gov.lv/ru/moskva/',\n",
    "              headers={'User-Agent': 'Mozilla/5.0'})\n",
    " \n",
    "# to perform a GET request and load the\n",
    "# content of the website and store it in a var\n",
    "response = urlopen(url).read()\n",
    " \n",
    "# to create the initial hash\n",
    "currentHash = hashlib.sha224(response).hexdigest()\n",
    "print(\"running\")\n",
    "time.sleep(10)\n",
    "while True:\n",
    "    try:\n",
    "        # perform the get request and store it in a var\n",
    "        response = urlopen(url).read()\n",
    " \n",
    "        # create a hash\n",
    "        currentHash = hashlib.sha224(response).hexdigest()\n",
    " \n",
    "        # wait for 30 seconds\n",
    "        time.sleep(30)\n",
    " \n",
    "        # perform the get request\n",
    "        response = urlopen(url).read()\n",
    " \n",
    "        # create a new hash\n",
    "        newHash = hashlib.sha224(response).hexdigest()\n",
    " \n",
    "        # check if new hash is same as the previous hash\n",
    "        if newHash == currentHash:\n",
    "            continue\n",
    " \n",
    "        # if something changed in the hashes\n",
    "        else:\n",
    "            # notify\n",
    "            print(\"something changed\")\n",
    " \n",
    "            # again read the website\n",
    "            response = urlopen(url).read()\n",
    " \n",
    "            # create a hash\n",
    "            currentHash = hashlib.sha224(response).hexdigest()\n",
    " \n",
    "            # wait for 30 seconds\n",
    "            time.sleep(30)\n",
    "            continue\n",
    " \n",
    "    # To handle exceptions\n",
    "    except Exception as e:\n",
    "        print(\"error\")"
   ]
  },
  {
   "cell_type": "code",
   "execution_count": null,
   "id": "6e64fa10",
   "metadata": {},
   "outputs": [],
   "source": [
    "<div class=\"service-field\" id=\"Persons-0-57-57\"><button class=\"btn-remove-visitor js-delete-service\"><img src=\"/img/plus.png\" alt=\"\"></button><div class=\"form-services--description\"><p class=\"text--description\">Оформление паспорта / ID-карты</p></div></div>"
   ]
  },
  {
   "cell_type": "code",
   "execution_count": null,
   "id": "ab478345",
   "metadata": {},
   "outputs": [],
   "source": []
  },
  {
   "cell_type": "code",
   "execution_count": null,
   "id": "deb4920c",
   "metadata": {},
   "outputs": [],
   "source": []
  },
  {
   "cell_type": "code",
   "execution_count": null,
   "id": "7c507ec3",
   "metadata": {},
   "outputs": [],
   "source": []
  },
  {
   "cell_type": "code",
   "execution_count": 47,
   "id": "4157c6c3",
   "metadata": {},
   "outputs": [],
   "source": [
    "from selenium import webdriver\n",
    "from selenium.webdriver.common.by import By\n",
    "from selenium.webdriver.common.keys import Keys\n",
    "import pandas as pd\n",
    "import time\n",
    "from bs4 import BeautifulSoup\n",
    "from selenium.webdriver.chrome.options import Options\n",
    "from selenium.webdriver.support.ui import WebDriverWait\n",
    "from selenium.webdriver.support import expected_conditions as EC"
   ]
  },
  {
   "cell_type": "code",
   "execution_count": 27,
   "id": "0675650f",
   "metadata": {},
   "outputs": [
    {
     "name": "stderr",
     "output_type": "stream",
     "text": [
      "/var/folders/rd/x5rtrm79573f34ws08r36mnr0000gn/T/ipykernel_64389/977095097.py:3: DeprecationWarning: executable_path has been deprecated, please pass in a Service object\n",
      "  browser = webdriver.Chrome('/Applications/Google\\ Chrome.app/Contents/MacOS/Google\\ Chrome',\n",
      "/var/folders/rd/x5rtrm79573f34ws08r36mnr0000gn/T/ipykernel_64389/977095097.py:3: DeprecationWarning: use options instead of chrome_options\n",
      "  browser = webdriver.Chrome('/Applications/Google\\ Chrome.app/Contents/MacOS/Google\\ Chrome',\n"
     ]
    }
   ],
   "source": [
    "option = Options()\n",
    "option.add_argument(\"--disable-infobars\") \n",
    "browser = webdriver.Chrome('/Applications/Google\\ Chrome.app/Contents/MacOS/Google\\ Chrome',\n",
    "                            chrome_options=option)\n",
    "# https://pieraksts.mfa.gov.lv/ru/moskva Сайт \n",
    "browser.get('https://pieraksts.mfa.gov.lv/ru/moskva')"
   ]
  },
  {
   "cell_type": "code",
   "execution_count": 28,
   "id": "1963e850",
   "metadata": {},
   "outputs": [],
   "source": [
    "name  =  browser.find_element(By.ID,  'Persons[0][first_name]' )\n",
    "name.send_keys('Анна' + Keys.RETURN)\n",
    "lastname  =  browser.find_element(By.ID,  'Persons[0][last_name]' )\n",
    "lastname.send_keys('Попова' + Keys.RETURN)\n",
    "email  =  browser.find_element(By.ID,  'e_mail_repeat' )\n",
    "email.send_keys('pa@ya.com' + Keys.RETURN)\n",
    "email_rep  =  browser.find_element(By.ID,  'e_mail' )\n",
    "email_rep.send_keys('pa@ya.com' + Keys.RETURN)\n",
    "phone  =  browser.find_element(By.ID,  'phone' )\n",
    "phone.send_keys('+79152522222' + Keys.RETURN)"
   ]
  },
  {
   "cell_type": "code",
   "execution_count": 31,
   "id": "2d3f96e9",
   "metadata": {},
   "outputs": [],
   "source": [
    "passport_id =  browser.find_element(By.XPATH, \"//label[@for='Persons-0-57']\")\n",
    "passport_id.click()"
   ]
  },
  {
   "cell_type": "code",
   "execution_count": 34,
   "id": "d14ea2e8",
   "metadata": {},
   "outputs": [],
   "source": [
    "pop_up_checkbox =  browser.find_element(By.XPATH, \"//label[@for='active-confirmation']\")\n",
    "pop_up_checkbox.click()"
   ]
  },
  {
   "cell_type": "code",
   "execution_count": 41,
   "id": "7227c0f1",
   "metadata": {},
   "outputs": [],
   "source": [
    "pop_up_button =  browser.find_element(By.XPATH, \"//button[@data-serviceid='Persons-0-57']\")\n",
    "pop_up_button.click()"
   ]
  },
  {
   "cell_type": "code",
   "execution_count": 42,
   "id": "8e92ca85",
   "metadata": {},
   "outputs": [],
   "source": [
    "next_step_button =  browser.find_element(By.XPATH, \"//button[@class='btn-next-step text--submit']\")\n",
    "next_step_button.click()"
   ]
  },
  {
   "cell_type": "code",
   "execution_count": 45,
   "id": "6b81df4f",
   "metadata": {},
   "outputs": [],
   "source": [
    "next_page =  browser.find_element(By.XPATH, \"//button[@class='calendar-next']\")\n",
    "next_page.click()"
   ]
  },
  {
   "cell_type": "code",
   "execution_count": 55,
   "id": "0433d087",
   "metadata": {},
   "outputs": [
    {
     "ename": "SyntaxError",
     "evalue": "invalid syntax (3834583201.py, line 1)",
     "output_type": "error",
     "traceback": [
      "\u001b[0;36m  File \u001b[0;32m\"/var/folders/rd/x5rtrm79573f34ws08r36mnr0000gn/T/ipykernel_64389/3834583201.py\"\u001b[0;36m, line \u001b[0;32m1\u001b[0m\n\u001b[0;31m    elements = soup.find_all(attrs={'div', \"class\":{\"cal-active\"}})\u001b[0m\n\u001b[0m                                                  ^\u001b[0m\n\u001b[0;31mSyntaxError\u001b[0m\u001b[0;31m:\u001b[0m invalid syntax\n"
     ]
    }
   ],
   "source": [
    "elements = soup.find_all(attrs={'div', \"class\":{\"cal-active\"}})"
   ]
  },
  {
   "cell_type": "code",
   "execution_count": 53,
   "id": "7337c2c0",
   "metadata": {},
   "outputs": [],
   "source": [
    "from bs4 import BeautifulSoup as soup"
   ]
  },
  {
   "cell_type": "code",
   "execution_count": null,
   "id": "44e69a43",
   "metadata": {},
   "outputs": [],
   "source": []
  }
 ],
 "metadata": {
  "kernelspec": {
   "display_name": "Python 3 (ipykernel)",
   "language": "python",
   "name": "python3"
  },
  "language_info": {
   "codemirror_mode": {
    "name": "ipython",
    "version": 3
   },
   "file_extension": ".py",
   "mimetype": "text/x-python",
   "name": "python",
   "nbconvert_exporter": "python",
   "pygments_lexer": "ipython3",
   "version": "3.9.13"
  }
 },
 "nbformat": 4,
 "nbformat_minor": 5
}
