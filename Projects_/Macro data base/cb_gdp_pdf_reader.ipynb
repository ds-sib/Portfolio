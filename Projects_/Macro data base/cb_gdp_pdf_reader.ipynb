{
 "cells": [
  {
   "cell_type": "code",
   "execution_count": 252,
   "id": "ab1c6b86-e393-422c-ab29-50ce464240f8",
   "metadata": {},
   "outputs": [],
   "source": [
    "import pandas as pd\n",
    "import pdfplumber"
   ]
  },
  {
   "cell_type": "code",
   "execution_count": 253,
   "id": "2cbf3e8e-9401-4747-bfc4-2270de77e8b5",
   "metadata": {},
   "outputs": [],
   "source": [
    "def cb_gdp_report_parser(file_path):\n",
    "    with pdfplumber.open(file_path) as pdf:\n",
    "        first_page = pdf.pages[0]\n",
    "        pdf_text   = first_page.extract_text()\n",
    "\n",
    "    gdp_row_data = pdf_text.split('Валовой внутренний продукт')[1].split('\\n')[0].replace(\",\", \".\").split(' ')\n",
    "\n",
    "    gdp_values = []\n",
    "    for i in gdp_row_data:\n",
    "        if 3 <= len(i) <= 5:\n",
    "            gdp_values.append(float(i))\n",
    "        elif len(i) == 7:\n",
    "            min = float(i.split('-')[0])\n",
    "            max = float(i.split('-')[1])\n",
    "            gdp_values.append((min+max)/2)\n",
    "        elif len(i) == 0:\n",
    "            continue\n",
    "        else:\n",
    "            if i.startswith('('):\n",
    "                min   = float(i.split('(')[1].split(')')[0])\n",
    "                i_end = i.split(')-')[1]\n",
    "            else:\n",
    "                min   = float(i.split('-')[0])\n",
    "                i_end = i[4:]          \n",
    "            if i_end.startswith('('):\n",
    "                max = float(i_end.split('(')[1].split(')')[0])\n",
    "            else:\n",
    "                max = float(i_end)\n",
    "            gdp_values.append((min+max)/2)\n",
    "\n",
    "    columns=[]\n",
    "    for i in range(len(gdp_values)):\n",
    "        columns.append(int('20'+file_path[-10:][:2])-1+i)\n",
    "\n",
    "    gdp = pd.DataFrame(gdp_values). T\n",
    "    gdp.columns = columns\n",
    "    \n",
    "    return gdp"
   ]
  }
 ],
 "metadata": {
  "kernelspec": {
   "display_name": "Python 3 (ipykernel)",
   "language": "python",
   "name": "python3"
  },
  "language_info": {
   "codemirror_mode": {
    "name": "ipython",
    "version": 3
   },
   "file_extension": ".py",
   "mimetype": "text/x-python",
   "name": "python",
   "nbconvert_exporter": "python",
   "pygments_lexer": "ipython3",
   "version": "3.9.13"
  }
 },
 "nbformat": 4,
 "nbformat_minor": 5
}
