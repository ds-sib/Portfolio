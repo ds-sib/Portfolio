{
 "cells": [
  {
   "cell_type": "code",
   "execution_count": 1,
   "metadata": {},
   "outputs": [],
   "source": [
    "import pandas as pd\n",
    "import seaborn as sns\n",
    "import scipy.stats as ss"
   ]
  },
  {
   "cell_type": "code",
   "execution_count": 8,
   "metadata": {},
   "outputs": [],
   "source": [
    "# Loading data\n",
    "key = 'https://getfile.dokpub.com/yandex/get/'\n",
    "url = 'https://disk.yandex.ru/d/txn7q-CE2zSaPg'\n",
    "\n",
    "df = pd.read_csv(key+url)"
   ]
  },
  {
   "cell_type": "markdown",
   "metadata": {},
   "source": [
    "Let's check if there are users who fall into both the first and second groups"
   ]
  },
  {
   "cell_type": "code",
   "execution_count": 9,
   "metadata": {},
   "outputs": [
    {
     "data": {
      "text/plain": [
       "array([0])"
      ]
     },
     "execution_count": 9,
     "metadata": {},
     "output_type": "execute_result"
    }
   ],
   "source": [
    "user_id_1_check = pd.crosstab(df.user_id_1, df.group).reset_index()\n",
    "user_id_1_check['min'] = user_id_1_check[[0, 1]].min(axis=1)\n",
    "user_id_1_check['min'].unique()"
   ]
  },
  {
   "cell_type": "code",
   "execution_count": 10,
   "metadata": {},
   "outputs": [
    {
     "data": {
      "text/plain": [
       "array([0])"
      ]
     },
     "execution_count": 10,
     "metadata": {},
     "output_type": "execute_result"
    }
   ],
   "source": [
    "user_id_2_check = pd.crosstab(df.user_id_2, df.group).reset_index()\n",
    "user_id_2_check['min'] = user_id_2_check[[0, 1]].min(axis=1)\n",
    "user_id_2_check['min'].unique()"
   ]
  },
  {
   "cell_type": "markdown",
   "metadata": {},
   "source": [
    "Users who are in 2 groups at the same time -- none"
   ]
  },
  {
   "cell_type": "markdown",
   "metadata": {},
   "source": [
    "To evaluate the effectiveness of the new questionnaire retrieval system, we formulate 2 questions:<br>\n",
    "1. Has user activity increased in general?<br>\n",
    "For this purpose, let's count how many actions users have performed (match+not_match). This sign is rather indirect, as the activity is not directly related to the quality of questionnaire matching. In any case, our ultimate goal is the popularity and revenue of the application, and this factor has a positive impact on the application as a whole, because the more people are active in our application, the more successful our service as a whole is.<br>\n",
    "<br>\n",
    "2. Has the conversion rate of likes increased?<br>\n",
    "To do this, we divide the number of likes by the total activity. This figure directly reflects how well the new algorithm works."
   ]
  },
  {
   "cell_type": "markdown",
   "metadata": {},
   "source": [
    "### 1 question"
   ]
  },
  {
   "cell_type": "code",
   "execution_count": 23,
   "metadata": {},
   "outputs": [],
   "source": [
    "# Count activity for 1 user from user_id_1\n",
    "first_group = df.query('group == 0') \\\n",
    "                .groupby('user_id_1') \\\n",
    "                .agg({'is_match': 'count'}) \\\n",
    "                .reset_index() \\\n",
    "                .rename(columns={'user_id_1': 'user_id_2'})"
   ]
  },
  {
   "cell_type": "code",
   "execution_count": 24,
   "metadata": {},
   "outputs": [
    {
     "data": {
      "text/html": [
       "<div>\n",
       "<style scoped>\n",
       "    .dataframe tbody tr th:only-of-type {\n",
       "        vertical-align: middle;\n",
       "    }\n",
       "\n",
       "    .dataframe tbody tr th {\n",
       "        vertical-align: top;\n",
       "    }\n",
       "\n",
       "    .dataframe thead th {\n",
       "        text-align: right;\n",
       "    }\n",
       "</style>\n",
       "<table border=\"1\" class=\"dataframe\">\n",
       "  <thead>\n",
       "    <tr style=\"text-align: right;\">\n",
       "      <th></th>\n",
       "      <th>user_id_2</th>\n",
       "      <th>is_match_x</th>\n",
       "      <th>is_match_y</th>\n",
       "    </tr>\n",
       "  </thead>\n",
       "  <tbody>\n",
       "    <tr>\n",
       "      <th>0</th>\n",
       "      <td>4</td>\n",
       "      <td>9</td>\n",
       "      <td>8</td>\n",
       "    </tr>\n",
       "    <tr>\n",
       "      <th>1</th>\n",
       "      <td>10</td>\n",
       "      <td>6</td>\n",
       "      <td>14</td>\n",
       "    </tr>\n",
       "    <tr>\n",
       "      <th>2</th>\n",
       "      <td>12</td>\n",
       "      <td>12</td>\n",
       "      <td>8</td>\n",
       "    </tr>\n",
       "    <tr>\n",
       "      <th>3</th>\n",
       "      <td>14</td>\n",
       "      <td>8</td>\n",
       "      <td>8</td>\n",
       "    </tr>\n",
       "    <tr>\n",
       "      <th>4</th>\n",
       "      <td>15</td>\n",
       "      <td>20</td>\n",
       "      <td>12</td>\n",
       "    </tr>\n",
       "    <tr>\n",
       "      <th>...</th>\n",
       "      <td>...</td>\n",
       "      <td>...</td>\n",
       "      <td>...</td>\n",
       "    </tr>\n",
       "    <tr>\n",
       "      <th>496</th>\n",
       "      <td>994</td>\n",
       "      <td>9</td>\n",
       "      <td>20</td>\n",
       "    </tr>\n",
       "    <tr>\n",
       "      <th>497</th>\n",
       "      <td>995</td>\n",
       "      <td>8</td>\n",
       "      <td>6</td>\n",
       "    </tr>\n",
       "    <tr>\n",
       "      <th>498</th>\n",
       "      <td>996</td>\n",
       "      <td>8</td>\n",
       "      <td>6</td>\n",
       "    </tr>\n",
       "    <tr>\n",
       "      <th>499</th>\n",
       "      <td>997</td>\n",
       "      <td>12</td>\n",
       "      <td>14</td>\n",
       "    </tr>\n",
       "    <tr>\n",
       "      <th>500</th>\n",
       "      <td>999</td>\n",
       "      <td>7</td>\n",
       "      <td>13</td>\n",
       "    </tr>\n",
       "  </tbody>\n",
       "</table>\n",
       "<p>501 rows × 3 columns</p>\n",
       "</div>"
      ],
      "text/plain": [
       "     user_id_2  is_match_x  is_match_y\n",
       "0            4           9           8\n",
       "1           10           6          14\n",
       "2           12          12           8\n",
       "3           14           8           8\n",
       "4           15          20          12\n",
       "..         ...         ...         ...\n",
       "496        994           9          20\n",
       "497        995           8           6\n",
       "498        996           8           6\n",
       "499        997          12          14\n",
       "500        999           7          13\n",
       "\n",
       "[501 rows x 3 columns]"
      ]
     },
     "execution_count": 24,
     "metadata": {},
     "output_type": "execute_result"
    }
   ],
   "source": [
    "# Count activity for 1 user from user_id_2, join to 1 table\n",
    "first_group_activity = first_group.merge(df.query('group == 0').groupby('user_id_2').agg({'is_match': 'count'}).reset_index(),\n",
    "                                         how='left',\n",
    "                                         on='user_id_2'\n",
    "                                        )\n",
    "first_group_activity            "
   ]
  },
  {
   "cell_type": "code",
   "execution_count": 25,
   "metadata": {},
   "outputs": [],
   "source": [
    "# Counting activity\n",
    "first_group_activity['activity'] = first_group_activity.is_match_x + first_group_activity.is_match_y\n",
    "first_group_activity = first_group_activity.drop(columns=['is_match_x', 'is_match_y'])\n",
    "first_group_activity = first_group_activity.rename(columns={'user_id_2': 'user_id'})"
   ]
  },
  {
   "cell_type": "code",
   "execution_count": 26,
   "metadata": {},
   "outputs": [],
   "source": [
    "# Do the same with the test group\n",
    "second_group = df.query('group == 1') \\\n",
    "                 .groupby('user_id_1') \\\n",
    "                 .agg({'is_match': 'count'}) \\\n",
    "                 .reset_index() \\\n",
    "                 .rename(columns={'user_id_1': 'user_id_2'})"
   ]
  },
  {
   "cell_type": "code",
   "execution_count": 27,
   "metadata": {},
   "outputs": [],
   "source": [
    "second_group_activity = second_group.merge(df.query('group == 1').groupby('user_id_2').agg({'is_match': 'count'}).reset_index(),\n",
    "                                           how='left',\n",
    "                                           on='user_id_2'\n",
    "                                          )\n",
    "                                "
   ]
  },
  {
   "cell_type": "code",
   "execution_count": 28,
   "metadata": {},
   "outputs": [],
   "source": [
    "second_group_activity['activity'] = second_group_activity.is_match_x + second_group_activity.is_match_y\n",
    "second_group_activity = second_group_activity.drop(columns=['is_match_x', 'is_match_y'])\n",
    "second_group_activity = second_group_activity.rename(columns={'user_id_2': 'user_id'})"
   ]
  },
  {
   "cell_type": "code",
   "execution_count": 29,
   "metadata": {},
   "outputs": [
    {
     "name": "stderr",
     "output_type": "stream",
     "text": [
      "/opt/tljh/user/lib/python3.7/site-packages/seaborn/distributions.py:2557: FutureWarning: `distplot` is a deprecated function and will be removed in a future version. Please adapt your code to use either `displot` (a figure-level function with similar flexibility) or `histplot` (an axes-level function for histograms).\n",
      "  warnings.warn(msg, FutureWarning)\n",
      "/opt/tljh/user/lib/python3.7/site-packages/seaborn/distributions.py:2557: FutureWarning: `distplot` is a deprecated function and will be removed in a future version. Please adapt your code to use either `displot` (a figure-level function with similar flexibility) or `histplot` (an axes-level function for histograms).\n",
      "  warnings.warn(msg, FutureWarning)\n"
     ]
    },
    {
     "data": {
      "text/plain": [
       "<matplotlib.axes._subplots.AxesSubplot at 0x7f47b3ca3780>"
      ]
     },
     "execution_count": 29,
     "metadata": {},
     "output_type": "execute_result"
    },
    {
     "data": {
      "image/png": "[encoded data removed]",
      "text/plain": [
       "<Figure size 432x288 with 1 Axes>"
      ]
     },
     "metadata": {
      "needs_background": "light"
     },
     "output_type": "display_data"
    }
   ],
   "source": [
    "sns.distplot(first_group_activity.activity)\n",
    "sns.distplot(second_group_activity.activity)"
   ]
  },
  {
   "cell_type": "code",
   "execution_count": 30,
   "metadata": {},
   "outputs": [
    {
     "data": {
      "text/plain": [
       "Ttest_indResult(statistic=-62.837086115525075, pvalue=0.0)"
      ]
     },
     "execution_count": 30,
     "metadata": {},
     "output_type": "execute_result"
    }
   ],
   "source": [
    "# Since the distributions are normal and we have 2 independent groups of observations, we apply the t-test\n",
    "ss.ttest_ind(first_group_activity.activity, second_group_activity.activity)"
   ]
  },
  {
   "cell_type": "markdown",
   "metadata": {},
   "source": [
    "The p-value is less than 0.05, so we conclude that the averages in the two groups are significantly different"
   ]
  },
  {
   "cell_type": "code",
   "execution_count": 31,
   "metadata": {},
   "outputs": [
    {
     "data": {
      "text/plain": [
       "2.036929451557539"
      ]
     },
     "execution_count": 31,
     "metadata": {},
     "output_type": "execute_result"
    }
   ],
   "source": [
    "second_group_activity.activity.mean() / first_group_activity.activity.mean()"
   ]
  },
  {
   "cell_type": "markdown",
   "metadata": {},
   "source": [
    "#### We conclude that the averages are significantly different and the new algorithm has significantly increased the average user activity (by 2 times)."
   ]
  },
  {
   "cell_type": "markdown",
   "metadata": {},
   "source": [
    "### 2 question"
   ]
  },
  {
   "cell_type": "code",
   "execution_count": 32,
   "metadata": {},
   "outputs": [],
   "source": [
    "# We do the same actions as in question 2, but we calculate the conversion rate of likes (likes divided by the total activity).\n",
    "first_group_a = df.query('group == 0') \\\n",
    "                  .groupby('user_id_1') \\\n",
    "                  .agg({'is_match': ['count', 'sum']})\n",
    "\n",
    "first_group_a.columns = first_group_a.columns.droplevel(0)\n",
    "\n",
    "first_group_a = first_group_a.reset_index().rename(columns={'user_id_1': 'user_id'})"
   ]
  },
  {
   "cell_type": "code",
   "execution_count": 33,
   "metadata": {},
   "outputs": [],
   "source": [
    "first_group_b = df.query('group == 0') \\\n",
    "                  .groupby('user_id_2') \\\n",
    "                  .agg({'is_match': ['count', 'sum']})\n",
    "\n",
    "first_group_b.columns = first_group_b.columns.droplevel(0)\n",
    "\n",
    "first_group_b = first_group_b.reset_index().rename(columns={'user_id_2': 'user_id'})"
   ]
  },
  {
   "cell_type": "code",
   "execution_count": 34,
   "metadata": {},
   "outputs": [],
   "source": [
    "first_group = first_group_a.merge(first_group_b, how=\"left\", on='user_id')"
   ]
  },
  {
   "cell_type": "code",
   "execution_count": 35,
   "metadata": {},
   "outputs": [],
   "source": [
    "first_group['CR'] = (first_group.sum_x + first_group.sum_y) / (first_group.count_x + first_group.count_y)\n",
    "\n",
    "first_group_CR = first_group.drop(columns=['sum_x', 'sum_y', 'count_x', 'count_y'])"
   ]
  },
  {
   "cell_type": "code",
   "execution_count": 36,
   "metadata": {},
   "outputs": [],
   "source": [
    "second_group_a = df.query('group == 1') \\\n",
    "                   .groupby('user_id_1') \\\n",
    "                   .agg({'is_match': ['count', 'sum']})\n",
    "\n",
    "second_group_a.columns = second_group_a.columns.droplevel(0)\n",
    "\n",
    "second_group_a = second_group_a.reset_index().rename(columns={'user_id_1': 'user_id'})"
   ]
  },
  {
   "cell_type": "code",
   "execution_count": 37,
   "metadata": {},
   "outputs": [],
   "source": [
    "second_group_b = df.query('group == 1') \\\n",
    "                   .groupby('user_id_2') \\\n",
    "                   .agg({'is_match': ['count', 'sum']})\n",
    "\n",
    "second_group_b.columns = second_group_b.columns.droplevel(0)\n",
    "\n",
    "second_group_b = second_group_b.reset_index().rename(columns={'user_id_2': 'user_id'})"
   ]
  },
  {
   "cell_type": "code",
   "execution_count": 38,
   "metadata": {},
   "outputs": [],
   "source": [
    "second_group = second_group_a.merge(second_group_b, how=\"left\", on='user_id')"
   ]
  },
  {
   "cell_type": "code",
   "execution_count": 39,
   "metadata": {},
   "outputs": [],
   "source": [
    "second_group['CR'] = (second_group.sum_x + second_group.sum_y) / (second_group.count_x + second_group.count_y)\n",
    "\n",
    "second_group_CR = second_group.drop(columns=['sum_x', 'sum_y', 'count_x', 'count_y'])"
   ]
  },
  {
   "cell_type": "code",
   "execution_count": 43,
   "metadata": {},
   "outputs": [
    {
     "name": "stderr",
     "output_type": "stream",
     "text": [
      "/opt/tljh/user/lib/python3.7/site-packages/seaborn/distributions.py:2557: FutureWarning: `distplot` is a deprecated function and will be removed in a future version. Please adapt your code to use either `displot` (a figure-level function with similar flexibility) or `histplot` (an axes-level function for histograms).\n",
      "  warnings.warn(msg, FutureWarning)\n",
      "/opt/tljh/user/lib/python3.7/site-packages/seaborn/distributions.py:2557: FutureWarning: `distplot` is a deprecated function and will be removed in a future version. Please adapt your code to use either `displot` (a figure-level function with similar flexibility) or `histplot` (an axes-level function for histograms).\n",
      "  warnings.warn(msg, FutureWarning)\n"
     ]
    },
    {
     "data": {
      "text/plain": [
       "<matplotlib.axes._subplots.AxesSubplot at 0x7f47b1689cf8>"
      ]
     },
     "execution_count": 43,
     "metadata": {},
     "output_type": "execute_result"
    },
    {
     "data": {
      "image/png": "[encoded data removed]",
      "text/plain": [
       "<Figure size 432x288 with 1 Axes>"
      ]
     },
     "metadata": {
      "needs_background": "light"
     },
     "output_type": "display_data"
    }
   ],
   "source": [
    "sns.distplot(first_group_CR.CR)\n",
    "sns.distplot(second_group_CR.CR)"
   ]
  },
  {
   "cell_type": "code",
   "execution_count": 44,
   "metadata": {},
   "outputs": [
    {
     "data": {
      "text/plain": [
       "Ttest_indResult(statistic=-38.234590527591905, pvalue=1.0344736796458603e-197)"
      ]
     },
     "execution_count": 44,
     "metadata": {},
     "output_type": "execute_result"
    }
   ],
   "source": [
    "# Since the distributions are normal and we have 2 independent groups of observations, we apply the t-test\n",
    "ss.ttest_ind(first_group_CR.CR, second_group_CR.CR)"
   ]
  },
  {
   "cell_type": "markdown",
   "metadata": {},
   "source": [
    "The p-value is less than 0.05, so we conclude that the averages in the two groups are significantly different"
   ]
  },
  {
   "cell_type": "code",
   "execution_count": 45,
   "metadata": {},
   "outputs": [
    {
     "data": {
      "text/plain": [
       "2.0783902623290196"
      ]
     },
     "execution_count": 45,
     "metadata": {},
     "output_type": "execute_result"
    }
   ],
   "source": [
    "second_group_CR.CR.mean() / first_group_CR.CR.mean()"
   ]
  },
  {
   "cell_type": "markdown",
   "metadata": {},
   "source": [
    "#### We conclude that the averages are significantly different and the new algorithm has significantly increased the average user activity (by 2 times)."
   ]
  },
  {
   "cell_type": "markdown",
   "metadata": {},
   "source": [
    "### The two positive answers to the questions we posed at the beginning of our analysis allow us to conclude that in our sample the new questionnaire selection system proved successful and can be considered for implementation."
   ]
  },
  {
   "cell_type": "code",
   "execution_count": null,
   "metadata": {},
   "outputs": [],
   "source": []
  }
 ],
 "metadata": {
  "kernelspec": {
   "display_name": "Python 3 (ipykernel)",
   "language": "python",
   "name": "python3"
  },
  "language_info": {
   "codemirror_mode": {
    "name": "ipython",
    "version": 3
   },
   "file_extension": ".py",
   "mimetype": "text/x-python",
   "name": "python",
   "nbconvert_exporter": "python",
   "pygments_lexer": "ipython3",
   "version": "3.9.13"
  }
 },
 "nbformat": 4,
 "nbformat_minor": 4
}
