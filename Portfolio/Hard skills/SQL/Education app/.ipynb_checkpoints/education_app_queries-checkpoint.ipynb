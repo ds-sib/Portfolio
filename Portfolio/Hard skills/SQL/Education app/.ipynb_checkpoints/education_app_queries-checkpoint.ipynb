{
 "cells": [
  {
   "cell_type": "code",
   "execution_count": 31,
   "id": "a76b18fe",
   "metadata": {},
   "outputs": [],
   "source": [
    "import pandahouse as ph"
   ]
  },
  {
   "cell_type": "code",
   "execution_count": 32,
   "id": "b06ea795",
   "metadata": {},
   "outputs": [],
   "source": [
    "connection_clickhouse = {\n",
    "    'host': 'https://clickhouse.lab.karpov.courses',\n",
    "    'database': 'default',\n",
    "    'user': 'student',\n",
    "    'password': 'dpo_python_2020'}"
   ]
  },
  {
   "cell_type": "code",
   "execution_count": 33,
   "id": "5a8dff2b",
   "metadata": {},
   "outputs": [],
   "source": [
    "successful_students = '''\n",
    "WITH\n",
    "    (SELECT MAX(toStartOfMonth(timest)) FROM default.peas) AS current_month\n",
    "SELECT\n",
    "    COUNT(st_id) AS successful_studs_cur_month\n",
    "FROM\n",
    "    (\n",
    "    SELECT \n",
    "        st_id,\n",
    "        SUM(correct) AS succesful\n",
    "    FROM default.peas\n",
    "    WHERE\n",
    "        toStartOfMonth(timest) = current_month\n",
    "    GROUP BY\n",
    "        st_id\n",
    "    HAVING\n",
    "        succesful >= 20\n",
    "    )\n",
    "'''"
   ]
  },
  {
   "cell_type": "code",
   "execution_count": 34,
   "id": "ec0772d0",
   "metadata": {},
   "outputs": [
    {
     "data": {
      "text/html": [
       "<div>\n",
       "<style scoped>\n",
       "    .dataframe tbody tr th:only-of-type {\n",
       "        vertical-align: middle;\n",
       "    }\n",
       "\n",
       "    .dataframe tbody tr th {\n",
       "        vertical-align: top;\n",
       "    }\n",
       "\n",
       "    .dataframe thead th {\n",
       "        text-align: right;\n",
       "    }\n",
       "</style>\n",
       "<table border=\"1\" class=\"dataframe\">\n",
       "  <thead>\n",
       "    <tr style=\"text-align: right;\">\n",
       "      <th></th>\n",
       "      <th>successful_studs_cur_month</th>\n",
       "    </tr>\n",
       "  </thead>\n",
       "  <tbody>\n",
       "    <tr>\n",
       "      <th>0</th>\n",
       "      <td>136</td>\n",
       "    </tr>\n",
       "  </tbody>\n",
       "</table>\n",
       "</div>"
      ],
      "text/plain": [
       "   successful_studs_cur_month\n",
       "0                         136"
      ]
     },
     "execution_count": 34,
     "metadata": {},
     "output_type": "execute_result"
    }
   ],
   "source": [
    "ph.read_clickhouse(query=successful_students, connection=connection_clickhouse)"
   ]
  },
  {
   "cell_type": "code",
   "execution_count": 35,
   "id": "d5c0c9e2",
   "metadata": {},
   "outputs": [],
   "source": [
    "metrics = '''\n",
    "SELECT\n",
    "    test_grp AS group,\n",
    "    ROUND(SUM(money) / COUNT(DISTINCT a.st_id)) AS ARPU,\n",
    "    ROUND(sumIf(money, st_activity>10) / uniqIf(c.st_id, st_activity>10)) AS ARPAU,\n",
    "    ROUND(uniqIf(b.st_id, money>0) / COUNT(DISTINCT a.st_id) * 100, 2) AS CR,\n",
    "    ROUND(uniqIf(b.st_id, money>0 and st_activity>10) / uniqIf(c.st_id, st_activity>10) * 100, 2) AS CR_activity_to_purchase,\n",
    "    ROUND(uniqIf(c.st_id, money>0 and st_math_activity>=2 and subject='Math') / uniqIf(c.st_id, st_math_activity>=2) * 100, 2) AS CR_math_activity_to_purchase\n",
    "FROM default.studs AS a\n",
    "LEFT JOIN \n",
    "    default.final_project_check AS b\n",
    "ON \n",
    "    a.st_id=b.st_id\n",
    "LEFT JOIN \n",
    "    (SELECT\n",
    "        st_id,\n",
    "        SUM(correct) AS st_activity,\n",
    "        sumIf(correct, subject='Math') AS st_math_activity\n",
    "    FROM\n",
    "        default.peas\n",
    "    GROUP BY st_id\n",
    "    ) AS c\n",
    "ON\n",
    "    a.st_id=c.st_id\n",
    "GROUP BY group\n",
    "'''"
   ]
  },
  {
   "cell_type": "code",
   "execution_count": 36,
   "id": "d987f412",
   "metadata": {},
   "outputs": [
    {
     "data": {
      "text/html": [
       "<div>\n",
       "<style scoped>\n",
       "    .dataframe tbody tr th:only-of-type {\n",
       "        vertical-align: middle;\n",
       "    }\n",
       "\n",
       "    .dataframe tbody tr th {\n",
       "        vertical-align: top;\n",
       "    }\n",
       "\n",
       "    .dataframe thead th {\n",
       "        text-align: right;\n",
       "    }\n",
       "</style>\n",
       "<table border=\"1\" class=\"dataframe\">\n",
       "  <thead>\n",
       "    <tr style=\"text-align: right;\">\n",
       "      <th></th>\n",
       "      <th>group</th>\n",
       "      <th>ARPU</th>\n",
       "      <th>ARPAU</th>\n",
       "      <th>CR</th>\n",
       "      <th>CR_activity_to_purchase</th>\n",
       "      <th>CR_math_activity_to_purchase</th>\n",
       "    </tr>\n",
       "  </thead>\n",
       "  <tbody>\n",
       "    <tr>\n",
       "      <th>0</th>\n",
       "      <td>control</td>\n",
       "      <td>4541.0</td>\n",
       "      <td>10394.0</td>\n",
       "      <td>4.92</td>\n",
       "      <td>11.02</td>\n",
       "      <td>6.12</td>\n",
       "    </tr>\n",
       "    <tr>\n",
       "      <th>1</th>\n",
       "      <td>pilot</td>\n",
       "      <td>11508.0</td>\n",
       "      <td>29740.0</td>\n",
       "      <td>10.85</td>\n",
       "      <td>26.04</td>\n",
       "      <td>9.52</td>\n",
       "    </tr>\n",
       "  </tbody>\n",
       "</table>\n",
       "</div>"
      ],
      "text/plain": [
       "     group     ARPU    ARPAU     CR  CR_activity_to_purchase  \\\n",
       "0  control   4541.0  10394.0   4.92                    11.02   \n",
       "1    pilot  11508.0  29740.0  10.85                    26.04   \n",
       "\n",
       "   CR_math_activity_to_purchase  \n",
       "0                          6.12  \n",
       "1                          9.52  "
      ]
     },
     "execution_count": 36,
     "metadata": {},
     "output_type": "execute_result"
    }
   ],
   "source": [
    "ph.read_clickhouse(query=metrics, connection=connection_clickhouse)"
   ]
  }
 ],
 "metadata": {
  "kernelspec": {
   "display_name": "Python 3 (ipykernel)",
   "language": "python",
   "name": "python3"
  },
  "language_info": {
   "codemirror_mode": {
    "name": "ipython",
    "version": 3
   },
   "file_extension": ".py",
   "mimetype": "text/x-python",
   "name": "python",
   "nbconvert_exporter": "python",
   "pygments_lexer": "ipython3",
   "version": "3.9.13"
  }
 },
 "nbformat": 4,
 "nbformat_minor": 5
}
